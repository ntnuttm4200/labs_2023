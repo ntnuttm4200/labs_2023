{
 "cells": [
  {
   "cell_type": "markdown",
   "id": "57a75dd1",
   "metadata": {},
   "source": [
    "# Lab 4 Part 1 -- Transport Layer (connectionless vs oriented)\n",
    "\n",
    "This lab aims to introduce you to the transport layer protocols. In particular, we will focus on the difference between connectionless and connection-oriented protocols. We will use TCP as an example of a connection-oriented protocol and UDP as an example of a connectionless protocol. You will analyze and compare the performance of these protocols under normal network conditions and network conditions subject to packet loss, corruption, congestion, and delay.\n",
    "\n",
    "For delivery, submit a PDF report where you answer **only** those questions marked with a **REPORT:**."
   ]
  },
  {
   "cell_type": "markdown",
   "id": "b4fc388a",
   "metadata": {},
   "source": [
    "## Lab Setup\n",
    "\n",
    "[Figure 1](#figure_1) shows the topology of the lab. You will use the lab setup for the following scenarios:\n",
    "\n",
    "- Stream a video file from the \"server\" container.\n",
    "\n",
    "- Play the video stream from your local machine as the streaming client.\n",
    "\n",
    "- Manipulate the network traffic in the \"router\" container.\n",
    "\n",
    "\n",
    "<a id='figure_1'></a>\n",
    "\n",
    "|<img src=\"figures_2023/lab4_0.jpg\" />|\n",
    "|:--:|\n",
    "| *Figure 1: Lab4 System Setup* |\n",
    "\n",
    "- The topology in [Figure 1](#figure_1) is defined in the \"docker-compose.yml\" file.  Read the \"docker-compose.yml\" file to understand the lab setup. \n",
    "\n",
    "- Stop and remove the containers and networks created by the previous lab before starting this lab."
   ]
  },
  {
   "cell_type": "markdown",
   "id": "d251bf02",
   "metadata": {},
   "source": [
    "```bash\n",
    "cd ~/lab/lab2\n",
    "docker-compose down\n",
    "cd ~/lab/lab4\n",
    "sudo apt-get install socat\n",
    "sudo apt-get install traceroute\n",
    "docker-compose up -d --build\n",
    "```\n"
   ]
  },
  {
   "cell_type": "markdown",
   "id": "5861be17",
   "metadata": {},
   "source": [
    "- You will manipulate the network traffic in the \"router\" container. To ensure that the traffic between the \"ntnu_server\" and the streaming server passes through the router, you will need to delete the direct connection between the \"ntnu_server\" and the streaming server and add a route through the router:"
   ]
  },
  {
   "cell_type": "markdown",
   "id": "e18ff163",
   "metadata": {},
   "source": [
    "```bash\n",
    "# On the \"ntnu_server\"\n",
    "sudo ip route del 10.20.30.0/29\n",
    "sudo ip route add 10.20.30.0/29 via 10.20.40.3\n",
    "```\n"
   ]
  },
  {
   "cell_type": "markdown",
   "id": "d871e6f7",
   "metadata": {},
   "source": [
    "- Validate that the traffic between the \"ntnu_server\" and the streaming server passes through the router:"
   ]
  },
  {
   "cell_type": "markdown",
   "id": "1f43b72c",
   "metadata": {},
   "source": [
    "```bash\n",
    "# On the \"ntnu_server\"\n",
    "traceroute 10.20.30.2\n",
    "```\n"
   ]
  },
  {
   "cell_type": "code",
   "execution_count": null,
   "id": "ef0eca4b",
   "metadata": {},
   "outputs": [],
   "source": [
    "from test_lab4_part1 import TestLab4_part1\n",
    "check_progress = TestLab4_part1()\n",
    "check_progress.test_1_1()"
   ]
  },
  {
   "cell_type": "markdown",
   "id": "110d7ea1",
   "metadata": {},
   "source": [
    "- Since manipulating the network traffic will affect `ssh` connections, we recommend that you use `docker attach` to attach to the containers. \n",
    "\n",
    ">NOTE: Using `ssh` to connect to the containers will be slow but correct even when applying packet loss or packet corruption since `ssh` is connection-oriented. If you use `docker attach`, do not kill the container when exiting (by pressing `Ctrl+c` or typing `exit`); use detach instead (press `Ctrl+p` followed by `Ctrl+q`)\n",
    "\n",
    "\n",
    "# Milestone 1 -- Video Streaming\n",
    "\n",
    "In this milestone, you will stream a video file from the \"server\" container to your local machine under normal network conditions. You will use [VLC](https://en.wikipedia.org/wiki/VLC_media_player) to both stream the video file and play the video stream. VLC is a free and [open-source](https://github.com/videolan/vlc) media player and streaming media server.\n",
    "\n",
    "## Task1.1 -- TCP stream\n",
    "\n",
    "- On the **\"server\"** container, start a TCP stream using the following command:\n",
    "  - `cvlc` is the VLC command line interface.\n",
    "  - `~/work_dir/frog.mp4` is the path to the video file.\n",
    "  - `--loop` will loop the video (i.e., restart the video when it finishes).\n",
    "  - `--sout` specifies the stream output.\n",
    "  - `#std` specifies the standard output.\n",
    "  - `access=http` specifies the protocol used to stream the video. In this case, we use HTTP (TCP).\n",
    "  - `mux=ts` specifies the encapsulation method used for the resulting stream. In this case, we use MPEG2-TS (suitable for mp4 files).\n",
    "  - `bind=10.20.30.2:9080` binds the server's socket to server's IP and a port. The server's socket is the socket that VLC will create and listen on."
   ]
  },
  {
   "cell_type": "markdown",
   "id": "8d4af74d",
   "metadata": {},
   "source": [
    "```bash\n",
    "cvlc  ~/work_dir/frog.mp4 --loop --sout '#std{access=http,mux=ts,bind=10.20.30.2:9080}'\n",
    "```\n"
   ]
  },
  {
   "cell_type": "markdown",
   "id": "6ecb80d7",
   "metadata": {},
   "source": [
    ">You will see some error messages related to the fact that the server has no GUI, such as \"D-Bus\" and \"interface\" or a sound daemon such as \"PulseAudio\". Ignore these error messages.\n",
    "\n",
    "\n",
    "- On your **local machine**, start an ssh tunnel to the server's socket:"
   ]
  },
  {
   "cell_type": "markdown",
   "id": "ed0e32a8",
   "metadata": {},
   "source": [
    "```bash\n",
    "ssh ntnu_server -L 1234:10.20.30.2:9080\n",
    "```\n"
   ]
  },
  {
   "cell_type": "markdown",
   "id": "d65a2881",
   "metadata": {},
   "source": [
    "- On your **local machine**, play the the video stream:"
   ]
  },
  {
   "cell_type": "markdown",
   "id": "6e32a8b4",
   "metadata": {},
   "source": [
    "```bash\n",
    "vlc http://localhost:1234 --network-caching=1000\n",
    "```\n"
   ]
  },
  {
   "cell_type": "markdown",
   "id": "e8350cd8",
   "metadata": {},
   "source": [
    "- The `--network-caching` option specifies VLC cache size in milliseconds. The cache is a buffer that stores the video stream before playing it. The default cache size is 1000 ms. This means that VLC will download 1 second of the video stream before playing it to avoid the video from stopping while the stream is being downloaded. \n",
    "\n",
    "- Try different cache sizes (e.g., 0, 100, 1000, 10000, 100000) and observe the effect on the video quality.\n",
    "\n",
    "- Stop the video player and exit the ssh tunnel.\n",
    "\n",
    "- For the rest of the lab, use the following command to start the ssh tunnel (in the background) and play the video in one command. The tunnel will automatically close after you terminate the video player.\n",
    "  - `-f`: Put the ssh tunnel in the background.\n",
    "  - `-o ExitOnForwardFailure=yes`: terminate the tunnel when the port forwarding is not in use (e.g., when the video player is terminated).\n",
    "  - `sleep 1`: wait until the connection is there and the ports are open before going into the background."
   ]
  },
  {
   "cell_type": "markdown",
   "id": "6a46da53",
   "metadata": {},
   "source": [
    "```bash\n",
    "ssh -f -o ExitOnForwardFailure=yes ntnu_server -L 1234:10.20.30.2:9080 \"sleep 1\" && vlc http://localhost:1234 --network-caching=100\n",
    "```\n"
   ]
  },
  {
   "cell_type": "markdown",
   "id": "5ee3e53b",
   "metadata": {},
   "source": [
    "## Task 1.2 -- UDP stream\n",
    "\n",
    "- On the **\"server\"** container, start a UDP stream using the following command:\n",
    "  - `--sout-keep` option: keep the UPD stream open.\n",
    "  - `access=udp` specifies UDP as the streaming protocol.\n",
    "  - `dst=10.20.40.1:9080` specifies the destination IP address and port for the UDP packets. In this case, the destination is the \"ntnu_server.\" Notice the difference between UDP and TCP: in TCP, the server listens on a socket (binds a socket to the server's IP address), and the client connects to that socket. In UDP, the server sends packets to a destination IP address and port without binding any socket to its address."
   ]
  },
  {
   "cell_type": "markdown",
   "id": "c122c1ed",
   "metadata": {},
   "source": [
    "```bash\n",
    "cvlc ~/work_dir/frog.mp4 --loop --sout-keep --sout '#std{access=udp,mux=ts,dst=10.20.40.1:9080}'\n",
    "```\n"
   ]
  },
  {
   "cell_type": "markdown",
   "id": "05348145",
   "metadata": {},
   "source": [
    "- On your **local machine**, run the following command to start an ssh tunnel and play the video:\n",
    "  - `socat UDP4-LISTEN:9080, TCP4:localhost:7080`: transfer UDP packets from UDP port 9080 to TCP port 7080 on the \"ntnu\\_server\". \n",
    "  - `ssh ... -R 10.20.40.1:7080:localhost:6080`: reverse ssh tunnel from the \"ntnu_server\" to your local machine. The tunnel will forward the packets from TCP port 7080 on the \"ntnu_server\" to TCP port 6080 on your local machine.\n",
    "  - `socat TCP4-LISTEN:6080, UDP4:localhost:1234`: transfer the packets from TCP port 6080 to UDP port 1234 on your local machine. \n",
    "  - `vlc udp://@localhost:1234`: VLC player will receive the UDP packets on UDP port 1234 and play the video."
   ]
  },
  {
   "cell_type": "markdown",
   "id": "e5ae7511",
   "metadata": {},
   "source": [
    "```bash\n",
    "socat TCP4-LISTEN:6080, UDP4:localhost:1234 & ssh -f -o ExitOnForwardFailure=yes ntnu_server -R 10.20.40.1:7080:localhost:6080 \"sleep 1 && socat UDP4-LISTEN:9080, TCP4:localhost:7080\" & vlc udp://@localhost:1234 --network-caching=100 && fg\n",
    "```\n"
   ]
  },
  {
   "cell_type": "markdown",
   "id": "ef850a05",
   "metadata": {},
   "source": [
    ">Note: Do not worry about the meaning of the command. The main idea is that we are using [`socat`](https://www.redhat.com/sysadmin/getting-started-socat) to send UDP packets through an ssh tunnel, which is not possible by default because ssh is a connection-oriented.\n",
    "\n",
    "- Try different cache sizes (e.g., 0, 100, 1000, 10000, 100000) and observe the effect on the video quality.\n",
    "\n",
    "Q1. **REPORT:** Briefly compare the effect of the cache size on the video quality for the TCP and UDP streams. Give reasons for your observations based on the fundamentals of TCP and UDP.\n",
    "\n",
    "## Task 1.3 -- Traffic Capture\n",
    "\n",
    "- Stop if there is any stream running on the **\"server\"** container.\n",
    "\n",
    "- On the **\"ntnu_server\"**, start capturing network traffic on the interface **\"br_net2\"**:"
   ]
  },
  {
   "cell_type": "markdown",
   "id": "c6b6b50b",
   "metadata": {},
   "source": [
    "```bash\n",
    "sudo tcpdump -i br_net2 -w tcp_normal_traffic.pcap\n",
    "```\n"
   ]
  },
  {
   "cell_type": "markdown",
   "id": "135f65d1",
   "metadata": {},
   "source": [
    "- On the **\"server\"** container, start a TCP stream.\n",
    "\n",
    "- On your **local machine**, play the video stream.\n",
    "\n",
    "- Stop the video player and the stream after a few seconds. Then, stop the tcpdump on the **\"ntnu_server\"**. Save the pcap file to your local machine.\n",
    "\n",
    "- Repeat the above steps for the UDP stream. Name the pcap file as `udp_normal_traffic.pcap` and save it to your local machine.\n",
    "\n",
    "- You will use these pcap files (\"tcp_normal_traffic.pcap\" and \"udp_normal_traffic.pcap\") in the following milestones as the baseline for comparison. They represent network traffic under _normal_ conditions.\n",
    "\n",
    "\n",
    "# Milestone 2 -- Packet Loss\n",
    "\n",
    "##  Background -- Traffic Control\n",
    "\n",
    "Linux [traffic control](https://tldp.org/HOWTO/Traffic-Control-HOWTO/overview.html) is a powerful tool to manipulate your network traffic. This tool is useful for a network administrator to implement network policies, such as traffic shaping, scheduling and policing. For example, you can use it to ensure fair use of bandwidth among users, prioritize the traffic of a specific application, or block a particular application.\n",
    "\n",
    "In this lab, you will use the [`tc`](https://man7.org/linux/man-pages/man8/tc.8.html) command to configure traffic control in the \"router\" container. You will use [`tc-netem`](https://man7.org/linux/man-pages/man8/tc-netem.8.html) command to \"emulate\" different types of network conditions, such as packet loss, packet corruption, bandwidth limitation, and latency. This can be useful when you want to test how your application behaves under different network conditions.\n",
    "\n",
    "The format of the `tc` command is as follows:"
   ]
  },
  {
   "cell_type": "markdown",
   "id": "11d2cef3",
   "metadata": {},
   "source": [
    "```bash\n",
    "sudo tc qdisc add/del/replace dev ether0 root netem delay/loss/corrupt 100ms/10%/10%\n",
    "```\n"
   ]
  },
  {
   "cell_type": "markdown",
   "id": "27973ecb",
   "metadata": {},
   "source": [
    "Where:\n",
    "\n",
    "- `tc`: traffic control command.\n",
    "\n",
    "- `qdisc`(queueing discipline): simply a queue for outbound data packets and a scheduler on a network interface that decides which packet to send next (FIFO, priority-based, etc.).\n",
    "\n",
    "- `add/del/replace`: add, delete, or replace a traffic control rule.\n",
    "\n",
    "- `dev`: specify the network interface.\n",
    "\n",
    "- `root`: attach the traffic control rule to the root qdisc. You will only use the root qdisc in this lab, but it is possible to attach the traffic control rule to different classes of the qdisc.\n",
    "\n",
    "- [`netem`](https://wiki.linuxfoundation.org/networking/netem): network emulator that allows you to emulate different types of network conditions.\n",
    "\n",
    "- `delay/loss/corrupt 100ms/10%/10%`: specify the network condition type and the condition amount.\n",
    "\n",
    "All the traffic control rules in this lab are applied to the egress scheduler only. This means that the traffic control rules apply to the packets sent from the \"router\" container to the \"ntnu_server,\" not vice versa.\n",
    "\n",
    "\n",
    "## Task 2.1 -- Streaming under Packet Loss\n",
    "\n",
    "- In the **\"router\"** container, introduce a packet loss of 5% on the interface **\"ether0\"**:"
   ]
  },
  {
   "cell_type": "markdown",
   "id": "22d108b8",
   "metadata": {},
   "source": [
    "```bash\n",
    "sudo tc qdisc add dev ether0 root netem loss 5%\n",
    "```\n"
   ]
  },
  {
   "cell_type": "markdown",
   "id": "946b5efd",
   "metadata": {},
   "source": [
    "- Stream and play the video over TCP (as you did in Milestone 1) and observe the video quality. Try to change the amount of packet loss until you see a noticeable difference:"
   ]
  },
  {
   "cell_type": "markdown",
   "id": "be63f4f7",
   "metadata": {},
   "source": [
    "```bash\n",
    "sudo tc qdisc replace dev ether0 root netem loss [amount_of_packet_loss%]\n",
    "```\n"
   ]
  },
  {
   "cell_type": "markdown",
   "id": "658cb3db",
   "metadata": {},
   "source": [
    "- Repeat the above steps for UDP and observe the video quality. Try to change the amount of packet loss until you see a noticeable difference.\n",
    "\n",
    "\n",
    "- You can remove any traffic control rule with this command in case you want to restart:"
   ]
  },
  {
   "cell_type": "markdown",
   "id": "2336c281",
   "metadata": {},
   "source": [
    "```bash\n",
    "sudo tc qdisc del dev ether0 root\n",
    "```\n"
   ]
  },
  {
   "cell_type": "markdown",
   "id": "0bb68274",
   "metadata": {},
   "source": [
    "Q2. **REPORT:** Briefly describe and compare what happens to the video stream under packet loss vs normal network conditions for both TCP and UDP. Give reasons for your observations based on the fundamentals of TCP and UDP.\n",
    "\n",
    "## Task 2.2 -- Analyzing traffic under packet loss\n",
    "\n",
    "Now, you will capture and analyze packets in the presence of packet loss. You will capture packets in the server (before the router, thus before applying packet loss) and in your \"ntnu_server\" (after the router, thus after applying packet loss). Refer to [figure 1](#figure_1) to understand the network topology and why we capture packets in these two places.\n",
    "\n",
    "### TCP\n",
    "\n",
    "- On the **\"server\"** container, start capturing packets on the interface **\"eth0\"**:"
   ]
  },
  {
   "cell_type": "markdown",
   "id": "15ce712e",
   "metadata": {},
   "source": [
    "```bash\n",
    "sudo tcpdump -i eth0 -w tcp_before_loss.pcap\n",
    "```\n"
   ]
  },
  {
   "cell_type": "markdown",
   "id": "d745936c",
   "metadata": {},
   "source": [
    "- On the **\"ntnu_server\"**, start capturing packets on the interface **\"br_net2\"**:"
   ]
  },
  {
   "cell_type": "markdown",
   "id": "9c875ab8",
   "metadata": {},
   "source": [
    "```bash\n",
    "sudo tcpdump -i br_net2 -w tcp_after_loss.pcap\n",
    "```\n"
   ]
  },
  {
   "cell_type": "markdown",
   "id": "5ab47cf1",
   "metadata": {},
   "source": [
    "- On the **\"router\"** container, introduce a packet loss of 20% on the interface **\"ether0\"**:"
   ]
  },
  {
   "cell_type": "markdown",
   "id": "95fb5731",
   "metadata": {},
   "source": [
    "```bash\n",
    "sudo tc qdisc replace dev ether0 root netem loss 20%\n",
    "```\n"
   ]
  },
  {
   "cell_type": "markdown",
   "id": "51462344",
   "metadata": {},
   "source": [
    "- Then stream and play the video over TCP and stop the streaming after a short time (e.g., 30 seconds). Stop the packet capturing on both the **\"server\"** and the **\"ntnu_server\"**. Save the pcap files to your local machine.\n",
    "\n",
    "- Open the capture files (**\"tcp_after_loss.pcap\"** and **\"tcp_normal_traffic.pcap\"**) in Wireshark. Then answer the following questions and validate your answer with a screenshot. You can apply a display filter to show only the packets exchanged between the server and the client, for example: `ip.addr eq 10.20.30.2 and ip.addr eq 10.20.40.1`.\n",
    "\n",
    "Q3. **REPORT:** Compare the captured TCP packets in the presence of packet loss vs. normal network conditions. What is the difference between the two? Why do you think this is happening?\n",
    "\n",
    ">HINT: You can apply these display filters: `tcp.analysis.lost_segment` to indicate any gap in sequence numbers, and `tcp.analysis.retransmission` to display all retransmissions.\n",
    "\n",
    "\n",
    "- Open the capture files (**\"tcp_before_loss.pcap\"** and **\"tcp_after_loss.pcap\"**) in Wireshark. Then answer the following questions and validate your answer with a screenshot.\n",
    "\n",
    "Q4. **REPORT:** Compare the captured TCP packets before and after applying packet loss. What is the difference between the two? Why do you think this is happening?\n",
    "\n",
    ">HINT: In Wireshark, navigate to **Analyze**$\\rightarrow$**[Expert Information](https://www.wireshark.org/docs/wsug_html_chunked/ChAdvExpert.html)**. This will give you a summary of network behavior; thus, you can find network issues easier than inspecting the packet list.\n",
    "\n",
    "\n",
    "### UDP\n",
    "\n",
    "- On the **\"server\"** container, start capturing packets on the interface **\"eth0\"**:"
   ]
  },
  {
   "cell_type": "markdown",
   "id": "7277d2d6",
   "metadata": {},
   "source": [
    "```bash\n",
    "sudo tcpdump -i eth0 -w udp_before_loss.pcap\n",
    "```\n"
   ]
  },
  {
   "cell_type": "markdown",
   "id": "5245a63b",
   "metadata": {},
   "source": [
    "- On the **\"ntnu_server\"**, start capturing packets on the interface **\"br_net2\"**:"
   ]
  },
  {
   "cell_type": "markdown",
   "id": "61bf064c",
   "metadata": {},
   "source": [
    "```bash\n",
    "sudo tcpdump -i br_net2 -w udp_after_loss.pcap\n",
    "```\n"
   ]
  },
  {
   "cell_type": "markdown",
   "id": "47df9781",
   "metadata": {},
   "source": [
    "- On the **\"router\"** container, introduce a packet loss of 20% on the interface **\"ether0\"**:"
   ]
  },
  {
   "cell_type": "markdown",
   "id": "7b1c9281",
   "metadata": {},
   "source": [
    "```bash\n",
    "sudo tc qdisc replace dev ether0 root netem loss 20%\n",
    "```\n"
   ]
  },
  {
   "cell_type": "markdown",
   "id": "4a01ad3c",
   "metadata": {},
   "source": [
    "- Then stream and play the video over UDP and stop the streaming after a short time (e.g., 30 seconds). Stop the packet capturing on the **\"server\"** and the **\"ntnu_server\"**. Save the pcap files to your local machine.\n",
    "\n",
    "- Open the capture files (**\"udp_before_loss.pcap\"** and **\"udp_after_loss.pcap\"**) in Wireshark. Then answer the following questions and validate your answer with a screenshot.\n",
    "\n",
    "Q5. **REPORT:** Compare the captured UDP packets before and after applying packet loss. Can you see any difference between the two? Is there any mechanism in the UDP protocol that lets you track packets and detect packet loss?\n",
    "\n",
    "- Remove any traffic control rule in the router:"
   ]
  },
  {
   "cell_type": "markdown",
   "id": "55eb2662",
   "metadata": {},
   "source": [
    "```bash\n",
    "sudo tc qdisc del dev ether0 root\n",
    "```\n"
   ]
  },
  {
   "cell_type": "markdown",
   "id": "24abb51a",
   "metadata": {},
   "source": [
    "# Milestone 3 -- Packet Corruption\n",
    "\n",
    "## Task 3.1 -- Streaming under Packet Corruption\n",
    "\n",
    "- In the **\"router\"** container, introduce a packet corruption of 5% on the interface **\"ether0\"**:"
   ]
  },
  {
   "cell_type": "markdown",
   "id": "fb7f0f18",
   "metadata": {},
   "source": [
    "```bash\n",
    "sudo tc qdisc add dev ether0 root netem corrupt 5%\n",
    "```\n"
   ]
  },
  {
   "cell_type": "markdown",
   "id": "957c53e7",
   "metadata": {},
   "source": [
    "- Stream and play the video over TCP  and observe the video quality. Try to change the amount of packet corruption until you see a noticeable difference:"
   ]
  },
  {
   "cell_type": "markdown",
   "id": "adc7745f",
   "metadata": {},
   "source": [
    "```bash\n",
    "sudo tc qdisc replace dev ether0 root netem corrupt [amount_of_packet_corruption%]\n",
    "```\n"
   ]
  },
  {
   "cell_type": "markdown",
   "id": "65432bad",
   "metadata": {},
   "source": [
    "- Repeat the above steps for UDP and observe the video quality. Try to change the amount of packet corruption until you see a noticeable difference.\n",
    "\n",
    "Q6. **REPORT:** Briefly describe and compare what happens to the video stream under packet corruption vs. normal network conditions for TCP and UDP. Give reasons for your observations based on the fundamentals of TCP and UDP.\n",
    "\n",
    "\n",
    "Q7. **REPORT:** Do you see any difference between the video quality when applying packet corruption vs. packet loss for TCP and UDP? Do you see the corruption in the video? Why?\n",
    "\n",
    "> [HINT](https://linux-tips.com/t/how-to-disable-udp-checksum-control-in-kernel/362)\n",
    "\n",
    "## Task 3.2 -- Analyzing traffic under Packet Corruption\n",
    "\n",
    "Q8. **Extra Credit:** Perform a similar analysis as in Milestone 2 (task 2.2), but this time under packet corruption. Try to find other analysis tools/techniques that can help you understand the behavior of the network under packet corruption.\n",
    "\n",
    "# Milestone 4 -- Bandwidth Limis\n",
    "\n",
    "\n",
    "## Task 4.1 -- Throughput Analysis\n",
    "\n",
    "\n",
    "When analyzing the required bandwidth (maximum transfer capacity of a network), you need to know the throughput of your application. In this milestone, you need to know the amounts of packets produced by the streaming server (in bits/second). You can use Wireshark [I/O Graph](https://www.wireshark.org/docs/wsug_html_chunked/ChStatIOGraphs.html) to see the throughput (as a graph over time).\n",
    "\n",
    "- Open the capture file (**\"tcp_normal_traffic.pcap\"**) in Wireshark. \n",
    "\n",
    "Then answer the following questions and validate your answer with a screenshot. Apply the display filter `ip.addr eq 10.20.30.2 and ip.addr eq 10.20.40.1`, then navigate to **Statistics**$\\rightarrow$**I/O Graph**. In the lower part of the graph, select only \"Filtered packets\". In the \"Y Axis\" tap,select \"Bits\" to show Bits/sec instead of Packets/sec.\n",
    "\n",
    "- Repeat the above steps for the capture file (**\"udp_normal_traffic.pcap\"**).\n",
    "\n",
    "Q9. **REPORT:** Determine (approximately) the average throughput of your video streaming over UDP and TCP in the **normal** network conditions. Provide screenshots of the throughput graphs.\n",
    "\n",
    "## Task 4.2 -- Streaming under Bandwidth Limits\n",
    "\n",
    "- In the **\"router\"** container, limit the bandwidth of the interface **\"ether0\"** to the average throughput of your video streaming (e.g. 500kbit in my case):"
   ]
  },
  {
   "cell_type": "markdown",
   "id": "51ec53fe",
   "metadata": {},
   "source": [
    "```bash\n",
    "sudo tc qdisc add dev ether0 root tbf rate [average_throughput]kbit latency 50ms burst 500kbit\n",
    "```\n"
   ]
  },
  {
   "cell_type": "markdown",
   "id": "26ba6144",
   "metadata": {},
   "source": [
    "- Stream and play the video over TCP and observe the video quality under the bandwidth limit. Try to change the bandwidth limit until you see a noticeable difference:"
   ]
  },
  {
   "cell_type": "markdown",
   "id": "001dbf1f",
   "metadata": {},
   "source": [
    "```bash\n",
    "sudo tc qdisc replace dev ether0 root tbf rate [bandwidth_limit]kbit latency 50ms burst [bandwidth_limit]kbit\n",
    "```\n"
   ]
  },
  {
   "cell_type": "markdown",
   "id": "12a34505",
   "metadata": {},
   "source": [
    "- Repeat the above steps for UDP and observe the video quality under the bandwidth limit. \n",
    "\n",
    "Q10. **REPORT:** Briefly describe and compare what happens to the video stream under bandwidth limit vs. normal network conditions for TCP and UDP. Give reasons for your observations based on the fundamentals of TCP and UDP.\n",
    "\n",
    "## Task 4.3 -- Analyzing traffic under Bandwidth Limits\n",
    "\n",
    "### TCP\n",
    "\n",
    "- On the **\"server\"** container, start capturing packets on the interface **\"eth0\"**:"
   ]
  },
  {
   "cell_type": "markdown",
   "id": "bc0bff42",
   "metadata": {},
   "source": [
    "```bash\n",
    "sudo tcpdump -i eth0 -w tcp_before_bandwidth_limit.pcap\n",
    "```\n"
   ]
  },
  {
   "cell_type": "markdown",
   "id": "8e352bf8",
   "metadata": {},
   "source": [
    "- On the **\"ntnu_server\"**, start capturing packets on the interface **\"br_net2\"**:"
   ]
  },
  {
   "cell_type": "markdown",
   "id": "7a6d908a",
   "metadata": {},
   "source": [
    "```bash\n",
    "sudo tcpdump -i br_net2 -w tcp_after_bandwidth_limit.pcap\n",
    "```\n"
   ]
  },
  {
   "cell_type": "markdown",
   "id": "6170eb06",
   "metadata": {},
   "source": [
    "- On the **\"router\"**, limit the bandwidth of the interface **\"ether0\"** to a value less than the average throughput of your video streaming (e.g., the value that makes the video quality noticeably worse):"
   ]
  },
  {
   "cell_type": "markdown",
   "id": "bdbbe48a",
   "metadata": {},
   "source": [
    "```bash\n",
    "sudo tc qdisc replace dev ether0 root tbf rate [bandwidth_limit]kbit latency 50ms burst [bandwidth_limit]kbit\n",
    "```\n"
   ]
  },
  {
   "cell_type": "markdown",
   "id": "815ba94c",
   "metadata": {},
   "source": [
    "- Then stream and play the video over TCP and stop the streaming after a short time (e.g., 30 seconds). Stop the packet capturing on the **\"server\"** and the **\"ntnu_server\"**. Save the pcap files to your local machine.\n",
    "\n",
    "- Open the capture files (**\"tcp_normal_traffic.pcap\"**, **\"tcp_after_bandwidth_limit.pcap\"**) in Wireshark. Then answer the following questions and validate your answer with a screenshot.\n",
    "\n",
    "Q11. **REPORT:** Compare the throughput (using the I/O Graph) of the video streaming over TCP in the **normal** network conditions vs the **bandwidth limited** network conditions. What do you observe? Why?\n",
    "\n",
    "- Open the capture files (**\"tcp_before_bandwidth_limit.pcap\"** and **\"tcp_after_bandwidth_limit.pcap\"**) in Wireshark. Then answer the following questions and validate your answer with a screenshot.\n",
    "\n",
    "Q12. **REPORT:** Do you see any difference between the stream's throughput (using the I/O Graph) before and after applying the bandwidth limit? Why?\n",
    "\n",
    "### UDP\n",
    "\n",
    "- On the **\"server\"** container, start capturing packets on the interface **\"eth0\"**:"
   ]
  },
  {
   "cell_type": "markdown",
   "id": "a09e286a",
   "metadata": {},
   "source": [
    "```bash\n",
    "sudo tcpdump -i eth0 -w udp_before_bandwidth_limit.pcap\n",
    "```\n"
   ]
  },
  {
   "cell_type": "markdown",
   "id": "d0cedcf0",
   "metadata": {},
   "source": [
    "- On the **\"ntnu_server\"**, start capturing packets on the interface **\"br_net2\"**:"
   ]
  },
  {
   "cell_type": "markdown",
   "id": "e2b0d13a",
   "metadata": {},
   "source": [
    "```bash\n",
    "sudo tcpdump -i br_net2 -w udp_after_bandwidth_limit.pcap\n",
    "```\n"
   ]
  },
  {
   "cell_type": "markdown",
   "id": "f88295ce",
   "metadata": {},
   "source": [
    "- On the **\"router\"**, limit the bandwidth of the interface **\"ether0\"**.\n",
    "\n",
    "- Stream and play the video over UDP and stop the streaming after a short time (e.g., 30 seconds). Stop the packet capturing on the **\"server\"** and the **\"ntnu_server\"**. Save the pcap files to your local machine.\n",
    "\n",
    "\n",
    "- Open the capture files (**\"udp_before_bandwidth_limit.pcap\"** and **\"udp_after_bandwidth_limit.pcap\"**) in Wireshark. Then answer the following questions and validate your answer with a screenshot.\n",
    "\n",
    "Q13. **REPORT:** Compare the stream's throughput (using the I/O Graph) over UDP before and after applying the bandwidth limit. What do you observe? Why?\n",
    "\n",
    "\n",
    "### UDP vs. TCP\n",
    "\n",
    "- Open the capture files (**\"tcp_before_bandwidth_limit.pcap\"**, **\"tcp_after_bandwidth_limit.pcap\"**, **\"udp_before_bandwidth_limit.pcap\"**, **\"udp_after_bandwidth_limit.pcap\"**) in Wireshark. Then answer the following questions and validate your answer with a screenshot.\n",
    "\n",
    "Q14. **REPORT:** Compare the stream's throughput (using the I/O Graph) over TCP vs. UDP before and after applying the bandwidth limit. What do you observe? Why?\n",
    "\n",
    "- Remove the bandwidth limit from the **\"router\"**:"
   ]
  },
  {
   "cell_type": "markdown",
   "id": "dbd2634e",
   "metadata": {},
   "source": [
    "```bash\n",
    "sudo tc qdisc del dev ether0 root\n",
    "```\n"
   ]
  },
  {
   "cell_type": "markdown",
   "id": "41ecf56c",
   "metadata": {},
   "source": [
    "# Milestone 5 -- Network Delay\n",
    "\n",
    "## Task 5.1 -- Streaming under Network Delay\n",
    "\n",
    "- In the **\"router\"** container, add a delay of 200ms to the interface **\"ether0\"**:"
   ]
  },
  {
   "cell_type": "markdown",
   "id": "eb65a83f",
   "metadata": {},
   "source": [
    "```bash\n",
    "sudo tc qdisc add dev ether0 root netem delay 200ms\n",
    "```\n"
   ]
  },
  {
   "cell_type": "markdown",
   "id": "e4fedb24",
   "metadata": {},
   "source": [
    "- Stream and play the video over TCP and observe the video quality under the network delay. Try to change the delay until you see a noticeable difference:"
   ]
  },
  {
   "cell_type": "markdown",
   "id": "24a4efc4",
   "metadata": {},
   "source": [
    "```bash\n",
    "sudo tc qdisc replace dev ether0 root netem delay [delay]ms\n",
    "```\n"
   ]
  },
  {
   "cell_type": "markdown",
   "id": "aff4980a",
   "metadata": {},
   "source": [
    "- Repeat the above steps for UDP and observe the video quality under the network delay.\n",
    "\n",
    "Q15. **REPORT:** Briefly describe and compare what happens to the video stream under network delay vs. normal network conditions for TCP and UDP. Give reasons for your observations based on the fundamentals of TCP and UDP.\n",
    "\n",
    "## Task 5.2 -- Analyzing traffic under Network Delay\n",
    "\n",
    "Q16. **Extra Credit:** Perform a similar analysis as Task 4.3 for the video streaming under network delay. Try to find other tools/techniques that help you analyze network delay."
   ]
  }
 ],
 "metadata": {
  "kernelspec": {
   "display_name": "Python 3 (ipykernel)",
   "language": "python",
   "name": "python3"
  },
  "language_info": {
   "codemirror_mode": {
    "name": "ipython",
    "version": 3
   },
   "file_extension": ".py",
   "mimetype": "text/x-python",
   "name": "python",
   "nbconvert_exporter": "python",
   "pygments_lexer": "ipython3",
   "version": "3.10.6"
  }
 },
 "nbformat": 4,
 "nbformat_minor": 5
}
