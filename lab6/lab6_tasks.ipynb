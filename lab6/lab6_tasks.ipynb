{
 "cells": [
  {
   "cell_type": "markdown",
   "id": "57f3ae01",
   "metadata": {},
   "source": [
    "# Lab6 -- Security in Computer  Networks\n",
    "\n",
    "## Introduction\n",
    "\n",
    "This lab aims to introduce you to security mechanisms used in computer networks. You will set up and analyze a firewall for packet filtering, a TLS for secure TCP connections, a VPN for secure network tunneling, and a digital signature for sender authentication and message integrity.\n",
    "\n",
    "For delivery, submit a PDF report where you answer **only** those questions marked with a **REPORT:**.\n",
    "\n",
    "\n",
    "## Lab Setup\n",
    "\n",
    "[Figure 1](#figure_1) shows the setup for this lab. It is similar to the setup for [lab5](../lab5/figures/lab5.png), but the servers now have private IP addresses. Your job is to set up a firewall to allow secure access to the servers from external networks. Then, you will set up a website with TLS support. Finally, you will set up a VPN to establish a secure tunnel between the two private networks.\n",
    "\n",
    "\n",
    "<a id='figure_1'></a>\n",
    "\n",
    "|<img src=\"figures/lab6.png\" />|\n",
    "|:--:| \n",
    "| *Figure 1: Lab6 System Setup* |\n",
    "\n",
    "- Read the \"docker-compose.yml\" file to understand the setup in [figure 1](#figure_1). \n",
    "\n",
    "- The OSPF protocol is already configured on the routers. Additionally, NAT is already configured on \"router1\" and \"router2\".\n",
    "\n",
    "- To save your configurations, you can run the command: `sudo sh ~/work_dir/save.sh` in the container."
   ]
  },
  {
   "cell_type": "code",
   "execution_count": null,
   "id": "8ab31cda",
   "metadata": {},
   "outputs": [],
   "source": [
    "import sys\n",
    "!{sys.executable} -m pip install cryptography\n",
    "from test_lab6 import TestLab6\n",
    "check_progress = TestLab6()"
   ]
  },
  {
   "cell_type": "markdown",
   "id": "a6f352a9",
   "metadata": {},
   "source": [
    "# Milestone 1 -- Firewall\n",
    "\n",
    "In [lab5](../05-lab5/figures/lab5.png), for simplicity, we assigned public IP address to the webserver, which makes it available to any external network (i.e., the IP address is publicly routable across the entire internet), and anyone can access it in an unconstrained manner. But this might not be ideal.\n",
    "\n",
    "We should place our resources in an internal network ([Figure 1](#figure_1)) and should carefully scrutinize any access from an external network through a firewall.\n",
    "\n",
    "<a id='sec:1.1'></a>\n",
    "\n",
    "## Task 1.1 -- [Port Forwarding](https://en.wikipedia.org/wiki/Port_forwarding)\n",
    "\n",
    "The first step in building the firewall is to allow access to certain services residing on a private (protected) network. We can use port forwarding to remap the public IP and port to that service's private IP address and port.\n",
    "\n",
    "* In __\"pclient2\"__, verify that you can __not__ access the webserver (neither through the private IP of \"webserver\" nor through the public IP of \"router0\"):"
   ]
  },
  {
   "cell_type": "markdown",
   "id": "5fadc3b0",
   "metadata": {},
   "source": [
    "```bash\n",
    "wget http://10.20.30.3 --header \"Host: www.ttm4200.com\"\n",
    "wget http://129.168.1.2 --header \"Host: www.ttm4200.com\"\n",
    "```\n"
   ]
  },
  {
   "cell_type": "markdown",
   "id": "cae07b96",
   "metadata": {},
   "source": [
    "* In __\"router0\"__, set up port forwarding to redirect any HTTP or HTTPS requests to the webserver. That means to set up a packet filter to inspect incoming packets: if a packet has a destination port of 80 (HTTP) or 443 (HTTPS), forwarded it to the webserver of the private IP 10.20.30.3:"
   ]
  },
  {
   "cell_type": "markdown",
   "id": "e1d4b3d7",
   "metadata": {},
   "source": [
    "```bash\n",
    "sudo nft add table nat\n",
    "sudo nft 'add chain nat postrouting { type nat hook postrouting priority 100 ; }'\n",
    "sudo nft 'add chain nat prerouting { type nat hook prerouting priority -100; }'\n",
    "sudo nft 'add rule nat prerouting ip daddr 129.168.1.2 tcp dport { 80, 443 } dnat to 10.20.30.3'\n",
    "sudo nft add rule nat postrouting masquerade\n",
    "```\n"
   ]
  },
  {
   "cell_type": "markdown",
   "id": "026e44f6",
   "metadata": {},
   "source": [
    "> See this [tutorial](https://jensd.be/1086/linux/forward-a-tcp-port-to-another-ip-or-port-using-nat-with-nftables) or this [tutorial](https://access.redhat.com/documentation/en-us/red_hat_enterprise_linux/7/html/security_guide/sec-configuring_port_forwarding_using_nftables) to fully understand the previous commands.\n",
    "\n",
    "* In __\"pclient2\"__, verify that you can access the webserver by retrieving the content of its HTML page:"
   ]
  },
  {
   "cell_type": "markdown",
   "id": "bcd46dde",
   "metadata": {},
   "source": [
    "```bash\n",
    "wget http://129.168.1.2 --header \"Host: www.ttm4200.com\"\n",
    "```\n"
   ]
  },
  {
   "cell_type": "code",
   "execution_count": null,
   "id": "43f99444",
   "metadata": {},
   "outputs": [],
   "source": [
    "check_progress.test_1_1()"
   ]
  },
  {
   "cell_type": "markdown",
   "id": "f43026a6",
   "metadata": {},
   "source": [
    "<a id='sec:1.2'></a>\n",
    "\n",
    "## Task 1.2 -- Prevent Probing/Scanning a Network\n",
    "\n",
    "One way to prevent probing/scanning your network is to block ICMP ping:\n",
    "\n",
    "\n",
    "* In __router0__, drop all incoming ICMP echo requests, using nftables. \n",
    "\n",
    "> To solve this, you need to understand nftables. These are some suggested sources to read more ([link1](https://wiki.nftables.org/wiki-nftables/index.php/Quick_reference-nftables_in_10_minutes), [link2](https://www.linkedin.com/pulse/comprehensive-guide-nftables-leading-packet-filtering-arash-shirvar/), [Link3](https://www.youtube.com/watch?v=lHLPZlZLWgs))\n",
    "\n",
    "* Then, make sure you can not ping \"router0\".\n",
    "\n",
    "* __Optional:__ What is the downside of disabling ICMP? \n",
    ">[HINT](https://blog.paessler.com/disabling-icmp-and-snmp-wont-increase-security-but-will-impact-network-monitoring)"
   ]
  },
  {
   "cell_type": "code",
   "execution_count": null,
   "id": "c02e982d",
   "metadata": {},
   "outputs": [],
   "source": [
    "check_progress.test_1_2()"
   ]
  },
  {
   "cell_type": "markdown",
   "id": "25b1ec0c",
   "metadata": {},
   "source": [
    "<a id='sec:1.3'></a>\n",
    "\n",
    "## 1.3 Filtering Inbound Traffic\n",
    "\n",
    "A firewall on a home router allows you to initiate communications from internal devices but restricts any communication initiation from external networks. Your task in this section is to implement this firewall.\n",
    "\n",
    "\n",
    "* Set up a firewall in __\"router1\"__ that:\n",
    "   * Allow all connections initiated from internal devices.\n",
    "   * Allows only established or [related](https://serverfault.com/questions/1037091/should-related-connections-always-be-allowed-in-iptables-ip6tables-nftables-et) connections from external networks\n",
    "   * Otherwise, drop all incoming connections from external networks.\n",
    "\n",
    ">[HINT](https://wiki.nftables.org/wiki-nftables/index.php/Simple_ruleset_for_a_home_router)"
   ]
  },
  {
   "cell_type": "code",
   "execution_count": null,
   "id": "c5bfcc5f",
   "metadata": {},
   "outputs": [],
   "source": [
    "check_progress.test_1_3()"
   ]
  },
  {
   "cell_type": "markdown",
   "id": "12c1dac7",
   "metadata": {},
   "source": [
    "Q1. __REPORT:__ Briefly explain the packet filters above ([1.1](#sec:1.1), [1.2](#sec:1.2). [1.3](#sec:1.3)). Your explanation should also address:\n",
    "   * Whether the packet filter is [stateful](https://en.wikipedia.org/wiki/Stateful_firewall) or stateless, and why?\n",
    "   * Where the packet filter applies in the network stack, and why?\n",
    "       \n",
    "> HINT: There are 5 points in the network stack (aka, [hooks](https://wiki.nftables.org/wiki-nftables/index.php/Netfilter_hooks)), where you can apply a rule of a packet filter:\n",
    ">\n",
    "> __- prerouting__: inspects all packets entering the system.\n",
    ">\n",
    "> __- input__: inspects packets delivered to the local system.\n",
    ">\n",
    "> __- forward__: inspects packets forwarded to a different host.\n",
    ">\n",
    "> __- output__: inspects packets sent by local processes.\n",
    ">\n",
    "> __- postrouting__: inspects all packets leaving the system.\n",
    "\n",
    "\n",
    "# Milestone 2 -- Securing TCP Connection: TLS\n",
    "\n",
    "In this section, you will set up a secure TCP connection using Transport Layer Security (TLS), commonly confused with its predecessor Secure Sockets Layer (SSL), which is deprecated.\n",
    "Then you will analyze a trace of TLS records to investigate the various records types and the fields in these records.\n",
    "\n",
    "You will set up a web server that supports TLS (HTTPS: HTTP over TLS).\n",
    "Then investigate how cryptography enhances HTTP with security (confidentiality, data integrity, and end-point authentication).\n",
    "\n",
    "\n",
    "## Task 2.1 -- Eavesdropping Insecure Connection\n",
    "\n",
    "* The \"webserver\" is set up with _nginx_ but unsecured without TLS. Thus any established connection is susceptible to eavesdropping and tampering by an outside party.\n",
    "\n",
    "To verify that: \n",
    "\n",
    "* Start packet capturing on __\"router3\"__ (as the outside party, or \"Trudy\") on __\"ether0\"__ interface. Retrieve the content of the webserver from \"pclient2\". Stop packet capturing and open the capture file in Wireshark.\n",
    "\n",
    "* Find the HTTP response (HTTP/1.1 200 OK) sent from the \"webserver\" to \"pclient2\". Can you read the response in cleartext (line-based text data)? \n",
    "\n",
    "* On your **local** machine, open a web browser and navigate to your website: `http://<your_ntnu_server_IP>`. You can check that a web server is not secure through a browser, as in Figure 2.\n",
    "\n",
    "\n",
    "|<img src=\"figures/figure2.png\"/>|\n",
    "|:--:| \n",
    "| *Figure 2: Insecure TCP connection* | \n",
    "\n",
    "\n",
    "\n",
    "## Task 2.2 -- Creating TLS Certificate\n",
    "\n",
    "The first step in setting up a website with TLS support is to get a digital certificate signed by a [certification authority (CA)](https://en.wikipedia.org/wiki/Certificate_authority).\n",
    "However, we can create a Self-Signed SSL Certificate using [OpenSSL](https://www.openssl.org/).\n",
    "\n",
    "> __NOTE:__ Using OpenSSL to generate certificates doesn't mean we are using the deprecated SSL protocol.\n",
    "> In fact, we can generate _certificates_ that can be used by both SSL and TLS _protocols_.\n",
    "\n",
    "* First, in the __\"webserver\"__, generate the server's private key with the following command:"
   ]
  },
  {
   "cell_type": "markdown",
   "id": "8c828fd5",
   "metadata": {},
   "source": [
    "```bash\n",
    "sudo openssl genrsa -out /etc/ssl/private/ttm4200-selfsigned.key 2048\n",
    "```\n"
   ]
  },
  {
   "cell_type": "markdown",
   "id": "f0d57a00",
   "metadata": {},
   "source": [
    "This will generate an RSA key, 2048 bits long.\n",
    "This key is required to sign the certificate.\n",
    "Typically, a certificate is signed by a certificate authority (CA) using CA's private key, which will allow our browsers and other equipment to trust such keys (recall the importance of CAs on page 662 of the book).\n",
    "However, we will use the private key to sign the certificate in our case.\n",
    "\n",
    "> __Extra:__ If you are interested in freely generating a worldwide valid key, you may try [Let's Encrypt](https://letsencrypt.org). However, take care that some of the steps may differ.\n",
    "\n",
    "\n",
    "\n",
    "* Now, you will generate the TLS certificate.\n",
    "To do it, run the following command and provide the public information that will be embedded in the certificate.\n",
    "Feel free to change the information except for the Common Name, which must correspond to the server's domain name."
   ]
  },
  {
   "cell_type": "markdown",
   "id": "39ea1550",
   "metadata": {},
   "source": [
    "```bash\n",
    "sudo openssl req -x509 -sha256 -nodes -days 60 -key /etc/ssl/private/ttm4200-selfsigned.key -out /etc/ssl/certs/ttm4200-selfsigned.crt\n",
    "\n",
    "Country Name (2 letter code) [AU]:NO\n",
    "State or Province Name (full name) [Some-State]:Trøndelag\n",
    "Locality Name (eg, city) []:Trondheim\n",
    "Organization Name (eg, company) [Internet Widgits Pty Ltd]:NTNU\n",
    "Organizational Unit Name (eg, section) []:IIK\n",
    "Common Name (e.g. server FQDN or YOUR name) []:www.ttm4200.com\n",
    "Email Address []:murad@ttm4200.com\n",
    "```\n"
   ]
  },
  {
   "cell_type": "markdown",
   "id": "8d9d244a",
   "metadata": {},
   "source": [
    "> More information about the command:\n",
    ">\n",
    "> __[-x509](https://en.wikipedia.org/wiki/X.509)__: define the format of public-key certificates. (<https://en.wikipedia.org/wiki/X.509>)\n",
    ">\n",
    "> __-sha256__: use a stronger hash algorithm\n",
    ">\n",
    "> __-nodes__: skip securing the certificate with a passphrase.\n",
    ">\n",
    "> __-days__ 60: specify the validity of the certificate\n",
    ">\n",
    "> __-key__: specify the private key to sign this certificate\n",
    ">\n",
    "> __-out__: specify the path and name of the certificate.\n",
    ">\n",
    "> __-Emai Address__: Use an email address with your team number (e.g., alex@team10.com). We will check this in the capture file to prove that your team generated the certificate.\n",
    "\n",
    "\n",
    "\n",
    "* Create a Diffie–Hellman (D-H) Parameter:"
   ]
  },
  {
   "cell_type": "markdown",
   "id": "4e3b9dc4",
   "metadata": {},
   "source": [
    "```bash\n",
    "sudo openssl dhparam -out /etc/ssl/certs/dhparam.pem 2048\n",
    "```\n"
   ]
  },
  {
   "cell_type": "markdown",
   "id": "342d05da",
   "metadata": {},
   "source": [
    "> \"Using Diffie–Hellman key exchange will generate a random and unique session key for encryption and decryption that has the additional property of forward secrecy: if the server's private key is disclosed in future, it cannot be used to decrypt the current session, even if the session is intercepted and recorded by a third party.\" [Reference](https://en.wikipedia.org/wiki/Transport_Layer_Security).\n",
    "\n",
    "\n",
    "\n",
    "## Task 2.3 -- Configuring the Web Server to Support TLS\n",
    "\n",
    "The _nginx_ service installed in the \"webserver\" is configured at \"/etc/nginx/sites-available/ttm4200\" to support HTTP.\n",
    "You need to adjust the configuration to use TLS and redirect HTTP requests to HTTPS, thus enforcing the use of the TLS certificate. \n",
    "\n",
    "* Start by filling the following template. Keep in mind that HTTPS uses a different port number than HTTP.\n",
    "\n",
    ">[HINT](http://nginx.org/en/docs/http/configuring_https_servers.html)"
   ]
  },
  {
   "cell_type": "markdown",
   "id": "50c859b9",
   "metadata": {},
   "source": [
    "```bash\n",
    "server {\n",
    "     #enable ssl on listening socket (IPv4, default_server)\n",
    "     listen ====fill in here====;\n",
    "\n",
    "     #enable ssl on listening socket (IPv6, default_server)\n",
    "     listen ====fill in here====;\n",
    "\n",
    "     #location of the server certificate\n",
    "     ssl_certificate ====fill in here====;\n",
    "\n",
    "     #location of the private key\n",
    "     ssl_certificate_key ====fill in here====;\n",
    "\n",
    "     #location of the dh parameter\n",
    "     ssl_dhparam ====fill in here====;\n",
    "\n",
    "     root /var/www/ttm4200;\n",
    "     index ttm4200_index.html;\n",
    "     server_name www.ttm4200.com;\n",
    "     location / {\n",
    "        try_files $uri $uri/ =404;\n",
    "        } \n",
    "     error_page 500 502 503 504 /50x.html;\n",
    "     location = /50x.html {\n",
    "           root /var/www/ttm4200;\n",
    "        index 50x.html;\n",
    "        }\n",
    "  }\n",
    "\n",
    "   # catch-all http requests and redirect them to https\n",
    "   server{\n",
    "      listen 80 default_server;\n",
    "      listen [::]:80 default_server;\n",
    "      server_name www.ttm4200.com;\n",
    "      return 301 https://www.ttm4200.com$request_uri;\n",
    "      }\n",
    "\n",
    "```\n"
   ]
  },
  {
   "cell_type": "markdown",
   "id": "32c2e7fc",
   "metadata": {},
   "source": [
    "* Check that the configuration's syntax is correct (`sudo nginx -t`) and if so, restart _nginx_.\n",
    "\n",
    "* On your **local** machine, open a web browser and navigate to your website: `https://<your_ntnu_server_IP>`. Because we are using a self-signed certificate (i.e., not signed by any trusted CA), the browser will be unable to verify the certificate presented by the webserver. It will issue a warning, as in Figure 3.\n",
    "\n",
    "\n",
    "\n",
    "\n",
    "|<img src=\"figures/figure3.png\" width=\"600\" height=\"600\" />|\n",
    "|:--:| \n",
    "| *Figure 3: Self-signed certificate warning* |\n",
    "\n",
    "\n",
    "* Click on _Advanced_ $\\rightarrow$ _View Certificate_ to display certificate information. \n",
    "\n",
    "> __Note:__ If you already pressed _Accept the Risk and Continue_ you can still view the certificate by clicking on the lock on the address bar. \n",
    "  \n",
    "* __Self-Check:__ Why are the \"Subject Name\" and \"Issuer Name\" the same? \n",
    "\n",
    "* __Self-Check:__ What algorithm is used for public-key encryption? \n",
    "\n",
    "* __Self-Check:__ What is the signature algorithm? \n",
    "\n",
    "* __Self-Check:__ What hash function is used to produce the certificate fingerprints?"
   ]
  },
  {
   "cell_type": "code",
   "execution_count": null,
   "id": "097d2408",
   "metadata": {},
   "outputs": [],
   "source": [
    "check_progress.test_2_3()"
   ]
  },
  {
   "cell_type": "markdown",
   "id": "29a50824",
   "metadata": {},
   "source": [
    "## Task 2.4 --  Analyzing TLS protocol.\n",
    "\n",
    "\n",
    "To analyze TLS, you need to capture packets in a TLS session. \n",
    "\n",
    "* Start packet capturing in __\"router3\"__ on \"ether0\" interface, and dump the capture to a file named \"https_tls.pcap\"."
   ]
  },
  {
   "cell_type": "markdown",
   "id": "b792b551",
   "metadata": {},
   "source": [
    "```bash\n",
    "sudo tcpdump -i ether0 -w https_tls.pcap\n",
    "```\n"
   ]
  },
  {
   "cell_type": "markdown",
   "id": "5ac7b981",
   "metadata": {},
   "source": [
    "* In __\"pclient2\"__, retrieve the content from the \"webserver\" using HTTPS and skip the certificate verification:"
   ]
  },
  {
   "cell_type": "markdown",
   "id": "099bbab9",
   "metadata": {},
   "source": [
    "```bash\n",
    "wget https://129.168.1.2 --header \"Host: www.ttm4200.com\" --no-check-certificate\n",
    "```\n"
   ]
  },
  {
   "cell_type": "markdown",
   "id": "ba604cae",
   "metadata": {},
   "source": [
    "* Stop packet capturing in \"router3\". Copy the capture file to the \"lab6\" directory, then open it in Wireshark. Apply the display filter `tls` to show only the frames that have TLS records. Then answer the following questions:\n",
    "\n",
    ">_NOTE: Keep in mind that a single packet may contain one or more TLS records._\n",
    "\n",
    "\n",
    "\n",
    "* Locate the first message in the TLS handshake (_ClientHello_ record), which the client sends to initiate a session with the server. Then answer the following:\n",
    "   * What is the packet number of _ClientHello_ record?\n",
    "   * What is the value of the content type?\n",
    "   * Locate the nonce (also known as a \"Random\"), consisting of a random number and a Unix timestamp. What is the value of the nonce? How long (in bytes) is the nonce?\n",
    "   * Locate the [cipher suite](https://en.wikipedia.org/wiki/Cipher_suite) list, which contains the combinations of cryptographic algorithms supported by the client in order of the client's preference (favorite choice first). How many cipher suites are advertised in the Client Hello record? \n",
    "   * __Self Check:__ Locate the \"supported_versions\" Extension. Why is the client requesting a TLS 1.2 handshake when it can support TLS 1.3? [HINT](https://www.thesecmaster.com/decoding-tls-1-3-protocol-handshake-with-wireshark/)"
   ]
  },
  {
   "cell_type": "code",
   "execution_count": null,
   "id": "3b86ae28",
   "metadata": {},
   "outputs": [],
   "source": [
    "# What is the packet number of _ClientHello_ record?\n",
    "ClientHello_packet_number = # your answer (as integer)\n",
    "\n",
    "# What is the value of the content type?\n",
    "ClientHello_content_type = # your answer (as integer)\n",
    "\n",
    "# Locate the nonce (also known as a \"Random\"), consisting of a random number and a Unix timestamp. What is the value of the nonce? \n",
    "ClientHello_nonce_value = # your answer (as a string of hexadecimal value)\n",
    "# How long (in bytes) is the nonce? \n",
    "ClientHello_nonce_length = # your answer (as integer) \n",
    "\n",
    "# How many cipher suites are advertised in the Client Hello record? \n",
    "Number_of_cipher_suites = # your answer (as integer)\n",
    "\n",
    "\n",
    "check_progress.test_2_4_1(ClientHello_packet_number, ClientHello_content_type, ClientHello_nonce_value , ClientHello_nonce_length, Number_of_cipher_suites)"
   ]
  },
  {
   "cell_type": "markdown",
   "id": "406a4c17",
   "metadata": {},
   "source": [
    "* Locate the _ServerHello_ record and expand it. Then answer the following:\n",
    "    * What is the packet number containing the _ServerHello_ record?\n",
    "    * Which TLS version does the server support?\n",
    "    * Find the chosen cipher suite (the server-chosen cipher suite from the client's advertised list) and specify the selected algorithms:\n",
    "      * The symmetric-key algorithm (bulk encryption algorithm) is used to encrypt the sent data.\n",
    "      * The hash algorithm (message authentication code algorithm)\n",
    " \n",
    "\n",
    "* __Self Check:__ Can you locate the _Certificate_, _Server Key Exchange_, and _Client Key Exchange_ records? Why?"
   ]
  },
  {
   "cell_type": "code",
   "execution_count": null,
   "id": "d9b6232b",
   "metadata": {},
   "outputs": [],
   "source": [
    "# What is the packet number containing the _ServerHello_ record?\n",
    "ServerHello_packet_number =  # your answer (as integer)\n",
    "\n",
    "# Which TLS version does the server support?\n",
    "Server_suppored_TLS_version =  # your answer (either 1.0, 1.1, 1.2, 1.3)\n",
    "\n",
    "# Find the chosen cipher suite in the ServerHello_and specify the selected algorithms:\n",
    "symmetric_key_algorithm = # your answer (as string)\n",
    "hash_algorithm = # your answer (as string)\n",
    "\n",
    "\n",
    "check_progress.test_2_4_2(ServerHello_packet_number, Server_suppored_TLS_version, symmetric_key_algorithm, hash_algorithm)"
   ]
  },
  {
   "cell_type": "markdown",
   "id": "46aa4653",
   "metadata": {},
   "source": [
    "Q2. __REPORT:__ Draw a sequence diagram of all TLS __records__ exchanged during TLS handshake. Then:\n",
    "   * Explain the functionality of each TLS record.\n",
    "   * Explain how the application data is encrypted.\n",
    " \n",
    ">__NOTE:__ Keep in mind that a single packet may contain one or more records. The question is about TLS __records__, not packets or frames.\n",
    "\n",
    "\n",
    "# Milestone 3 -- Virtual Private Network (VPN)\n",
    "\n",
    "\n",
    "To establish a protected network over a public internet connection, we can set up a VPN to encrypt the traffic and allow access to services on private networks. For example, the \"Openstack\" VMs are only accessible via NTNU private network, and you had to set up a VPN connection to access them.\n",
    "\n",
    "This lab will use WireGuard, free and open-source VPN software, which it is faster, simpler, and more efficient than IPsec and OpenVPN. It is already installed in all containers of this lab. You __must__ read this [page](https://www.wireguard.com/) (<https://www.wireguard.com/>) to get a conceptual overview of WireGuard.\n",
    "\n",
    "\n",
    "* First, remove port forwarding from __\"router0\"__ to prevent external access to internal resources in \"ttm4200_private_net\":"
   ]
  },
  {
   "cell_type": "markdown",
   "id": "06ab1a27",
   "metadata": {},
   "source": [
    "```bash\n",
    "sudo nft flush ruleset\n",
    "```\n"
   ]
  },
  {
   "cell_type": "markdown",
   "id": "96e6262f",
   "metadata": {},
   "source": [
    "* In __\"pclient2\"__, verify that you can __not__ access the webserver:"
   ]
  },
  {
   "cell_type": "markdown",
   "id": "bacac7a1",
   "metadata": {},
   "source": [
    "```bash\n",
    "wget https://129.168.1.2 --header \"Host: www.ttm4200.com\" --no-check-certificate\n",
    "wget https://10.20.30.3 --header \"Host: www.ttm4200.com\" --no-check-certificate\n",
    "```\n"
   ]
  },
  {
   "cell_type": "code",
   "execution_count": null,
   "id": "24660984",
   "metadata": {},
   "outputs": [],
   "source": [
    "check_progress.test_3_0()"
   ]
  },
  {
   "cell_type": "markdown",
   "id": "0c9e5f89",
   "metadata": {},
   "source": [
    "## Taske 3.1 -- VPN Setup: WireGuard\n",
    "\n",
    "In the following steps, you will establish a VPN connection from __\"pclient2\"__ (WireGuard client) to __\"router0\"__ (WireGuard server). Refer back to [Figure 1](#figure_1):\n",
    "\n",
    "\n",
    "* Generate public and private keys for both the sever (__\"router0\"__) and the client (__\"pclient2\"__) (i.e., these commands need to be executed in both containers):"
   ]
  },
  {
   "cell_type": "markdown",
   "id": "33c5baa6",
   "metadata": {},
   "source": [
    "```bash\n",
    "umask 077\n",
    "wg genkey | tee privatekey | wg pubkey > publickey\n",
    "```\n"
   ]
  },
  {
   "cell_type": "markdown",
   "id": "06857b8c",
   "metadata": {},
   "source": [
    "> More information about the command (<https://man7.org/linux/man-pages/man8/wg.8.html>):\n",
    ">\n",
    "> __- [umask 077](https://en.wikipedia.org/wiki/Umask)__: Set file permission for newly created files to only the user has \"read,\" \"write,\" and \"execute\" permissions (completely private).\n",
    ">\n",
    "> __- wg genkey__: Generates a random private key in base64.\n",
    ">\n",
    "> __- | tee privatekey__: Read the output of the generated private key and write it to a file named \"privatekey\" .\n",
    ">\n",
    ">__- | wg pubkey > publickey__: Calculates a public key from the corresponding private key and write it to a file named \"publickey\"\n",
    "\n",
    "* In the server (__\"router0\"__), create a configuration file \"/etc/wireguard/wg0.conf\", and add the following lines::"
   ]
  },
  {
   "cell_type": "markdown",
   "id": "5caffd23",
   "metadata": {},
   "source": [
    "```bash\n",
    "[Interface]\n",
    "PrivateKey = <Private key of \"router0\">\n",
    "#We will use a VPN subnet of 10.20.30.128/25, use 10.20.30.130 for the sever\n",
    "#and 10.20.30.131 for the client.\n",
    "Address = 10.20.30.130/25\n",
    "#Standard port for WireGuard (optional)\n",
    "ListenPort = 51820\n",
    "#Accept every packet on the tunnel interface, and masquerade outgoing \n",
    "#packets with a public IP\n",
    "PostUp = iptables -A FORWARD -i wg0 -j ACCEPT \n",
    "PostUP = iptables -t nat -A POSTROUTING -o ether1 -j MASQUERADE\n",
    "#Delete the NAT rule when removing the VPN\n",
    "PostDown = iptables -D FORWARD -i wg0 -j ACCEPT\n",
    "PostDown = iptables -t nat -D POSTROUTING -o ether1 -j MASQUERADE\n",
    "\n",
    "[Peer]\n",
    "PublicKey = <Public key of \"pclient2\">\n",
    "AllowedIPs = 10.20.30.131\n",
    "#Send a keepalive packet every 25 seconds\n",
    "PersistentKeepalive = 25\n",
    "```\n"
   ]
  },
  {
   "cell_type": "markdown",
   "id": "84d66563",
   "metadata": {},
   "source": [
    ">_HINT: you can run `cat privatekey`, then copy the key and paste it into the config file. The same goes for the publickey._\n",
    "\n",
    "\n",
    "* In the client (__\"plient2\"__), create a configuration file \"/etc/wireguard/wg0.conf\", and add the following lines:"
   ]
  },
  {
   "cell_type": "markdown",
   "id": "3e3434fb",
   "metadata": {},
   "source": [
    "```bash\n",
    "[Interface]\n",
    "PrivateKey = <Private key of \"pclient2\">\n",
    "Address = 10.20.30.131/25\n",
    "\n",
    "[Peer]\n",
    "PublicKey = <Public key of \"router0\">\n",
    "#Public ip address of the server \"router0\" and ListenPort\n",
    "Endpoint = 129.168.1.2:51820\n",
    "# Route all traffic with destination IP address in the subnet\n",
    "# of (10.20.30.0/24) through this Wireguard tunnel\n",
    "AllowedIPs = 10.20.30.0/24\n",
    "```\n"
   ]
  },
  {
   "cell_type": "markdown",
   "id": "6c93f0cd",
   "metadata": {},
   "source": [
    "* Bring up the WireGuard tunnel interface, in __both__ the server and the client:"
   ]
  },
  {
   "cell_type": "markdown",
   "id": "1bfd2e63",
   "metadata": {},
   "source": [
    "```bash\n",
    "sudo wg-quick up /etc/wireguard/wg0.conf\n",
    "```\n"
   ]
  },
  {
   "cell_type": "markdown",
   "id": "e67ecdad",
   "metadata": {},
   "source": [
    "* Verify that there is a new interface \"wg0\" added:"
   ]
  },
  {
   "cell_type": "markdown",
   "id": "9f43caa2",
   "metadata": {},
   "source": [
    "```bash\n",
    "ip address\n",
    "```\n"
   ]
  },
  {
   "cell_type": "markdown",
   "id": "ca504c70",
   "metadata": {},
   "source": [
    "* Change the default route in __\"webserver\"__:"
   ]
  },
  {
   "cell_type": "markdown",
   "id": "91763167",
   "metadata": {},
   "source": [
    "```bash\n",
    "sudo ip route del default via 10.20.30.1 dev eth0\n",
    "\n",
    "sudo ip route add default via 10.20.30.100\n",
    "\n",
    "```\n"
   ]
  },
  {
   "cell_type": "markdown",
   "id": "a31ff36f",
   "metadata": {},
   "source": [
    "* Verify that your VPN is set up correctly by accessing the webserver from __\"pclient2\"__:"
   ]
  },
  {
   "cell_type": "markdown",
   "id": "d2f88607",
   "metadata": {},
   "source": [
    "```bash\n",
    "ping 10.20.30.3\n",
    "\n",
    "wget https://10.20.30.3 --header \"Host: www.ttm4200.com\" --no-check-certificate\n",
    "```\n"
   ]
  },
  {
   "cell_type": "code",
   "execution_count": null,
   "id": "44fe188f",
   "metadata": {},
   "outputs": [],
   "source": [
    "check_progress.test_3_1()"
   ]
  },
  {
   "cell_type": "markdown",
   "id": "dc952267",
   "metadata": {},
   "source": [
    "## Task 3.2 -- Analyzing VPN\n",
    "\n",
    "* Start packet capturing on __\"router3\"__ (as the outside party, or \"Trudy\") on __\"ether0\"__ interface (refer back to [Figure 1](#figure_1)), and dump the capture to a file named \"wireguard_https.pcap\":\n",
    "\n",
    "\n",
    "* Bring down WireGuard tunnel interface, then bring it up to capture the handshake (in __both__ the server and the client):"
   ]
  },
  {
   "cell_type": "markdown",
   "id": "54d6c3b1",
   "metadata": {},
   "source": [
    "```bash\n",
    "sudo wg-quick down /etc/wireguard/wg0.conf\n",
    "sudo wg-quick up /etc/wireguard/wg0.conf\n",
    "```\n"
   ]
  },
  {
   "cell_type": "markdown",
   "id": "2d75697a",
   "metadata": {},
   "source": [
    "* In __\"pclient2\"__, retrieve the content from the \"webserver, and then stop packet capturing."
   ]
  },
  {
   "cell_type": "markdown",
   "id": "93e60a0a",
   "metadata": {},
   "source": [
    "```bash\n",
    "wget https://10.20.30.3 --header \"Host: www.ttm4200.com\" --no-check-certificate\n",
    "```\n"
   ]
  },
  {
   "cell_type": "markdown",
   "id": "e67140fa",
   "metadata": {},
   "source": [
    "Copy the capture file to the \"lab6\" directory, then open it in Wireshark. Apply the display filter `wg` to show only WireGuard packets. Then answer the following questions:\n",
    "\n",
    "* Locate the \"Handshake Initiation\" packet, which corresponds to the first message from Initiator (\"pclient2\" in our case) to Responder (\"router0\" in our case). Then answer the following:\n",
    "   * What is the packet number of the \"Handshake Initiation\" packet?\n",
    "   * What is the used transport protocol? \n",
    "   * What is the destination port? \n",
    "   * __Self Check:__ Does the destination port corresponds to the \"ListenPort\" in the WireGuard server?\n",
    "   * How many WireGuard fields are in the \"Handshake Initiation\" packet?\n",
    "   * __Self Check:__ What are these fields? [HINT](https://www.wireguard.com/protocol/#first-message-initiator-to-responder)\n",
    "\n",
    "* Locate the \"Handshake Response\" packet, which corresponds to the second message from Responder to Initiator. \n",
    "   * What is the packet number of the \"Handshake Response\" packet?\n",
    "   * How many WireGuard fields are in the \"Handshake Response\" packet?\n",
    "   * __Self Check:__ What are these fields? \n",
    "\n",
    "\n",
    "* Locate a \"Transport Data\" packet, corresponding to the encapsulated data.\n",
    "   * What is the packet number of the \"Transport Data\" packet?\n",
    "   * How many WireGuard fields are in the \"Transport Data\" packet?\n",
    "   * __Self Check:__ What are these fields? \n",
    "\n",
    "* Locate a \"Keepalive\" message.   \n",
    "   * What is the packet number of a \"Keepalive\" packet?\n",
    "   * How many WireGuard fields are in the \"Keepalive\" packet?\n",
    "   * __Self Check:__ What are these fields?"
   ]
  },
  {
   "cell_type": "code",
   "execution_count": null,
   "id": "0e72dd33",
   "metadata": {},
   "outputs": [],
   "source": [
    "################  Handshake Initiation ########################################\n",
    "# What the packet number of the \"Handshake Initiation\" packet?\n",
    "Handshake_Initiation_packet_number =  # your answer (as integer)\n",
    "\n",
    "#  What is the used transport protocol? \n",
    "wireguard_transport_protocol= # your answer (as string)\n",
    "\n",
    "# What is the destination port? \n",
    "Handshake_Initiation_destination_port= # your answer (as integer)\n",
    "\n",
    "# How many WireGuard fields are in the \"Handshake Initiation\" packet?\n",
    "Handshake_Initiation_num_fields =  # your answer (as integer)\n",
    "\n",
    "\n",
    "################  Handshake Response ########################################\n",
    "# What is the packet number of the \"Handshake Response\" packet?\n",
    "Handshake_Response_packet_number =  # your answer (as integer)\n",
    "\n",
    "# How many WireGuard fields are in the \"Handshake Response\" packet?\n",
    "Handshake_Response_num_fields = # your answer (as integer)\n",
    "\n",
    "\n",
    "################  Transport Data ########################################\n",
    "# What is the packet number of a \"Transport Data\" packet?\n",
    "Transport_Data_packet_number = # your answer (as integer)\n",
    "\n",
    "# How many WireGuard fields are in the \"Transport Data\" packet?\n",
    "Transport_Data_num_fields = # your answer (as integer)\n",
    "\n",
    "\n",
    "################  Keepalive ########################################\n",
    "# What is the packet number of a \"Keepalive\" packet?\n",
    "Keepalive_packet_number = # your answer (as integer)\n",
    "\n",
    "# How many WireGuard fields are in the \"Keepalive\" packet?\n",
    "Keepalive_num_fields = # your answer (as integer)\n",
    "\n",
    "check_progress.test_3_2(Handshake_Initiation_packet_number, \n",
    "                        wireguard_transport_protocol, \n",
    "                        Handshake_Initiation_destination_port,\n",
    "                        Handshake_Initiation_num_fields,\n",
    "                       Handshake_Response_packet_number,\n",
    "                       Handshake_Response_num_fields,\n",
    "                       Transport_Data_packet_number,\n",
    "                       Transport_Data_num_fields,\n",
    "                       Keepalive_packet_number,\n",
    "                       Keepalive_num_fields)"
   ]
  },
  {
   "cell_type": "markdown",
   "id": "c60610ec",
   "metadata": {},
   "source": [
    "Q3. __REPORT:__ Which of the following security requirements does WireGuard provide/satisfy in this lab? Briefly explain why?\n",
    "   * Confidentiality?\n",
    "   * Integrity?\n",
    "   * Authentication?\n",
    "   * Forward Secrecy?\n",
    "   * Traffic Type Obfuscation?\n",
    "\n",
    "Q4. __REPORT:__ What do you think would happen if you use the public IP address (i.e., `wget https://129.168.1.2 --header \"Host: www.ttm4200.com\" --no-check-certificate`) while using VPN? What would happen if you also perform port forwarding on \"router0\" (as you did in [section 1.1](#sec:1.1))? Briefly explain why?\n",
    ">[HINT](https://stackoverflow.com/questions/65444747/what-is-the-difference-between-endpoint-and-allowedips-fields-in-wireguard-confi)\n",
    "\n",
    "\n",
    "__Optional__ If you are interested, see how some of your colleagues used WireGuard in their master thesis [Link](https://ntnuopen.ntnu.no/ntnu-xmlui/bitstream/handle/11250/2834784/no.ntnu%3ainspera%3a80310926%3a20549418.pdf?sequence=1&isAllowed=y), [Link](https://ieeexplore.ieee.org/document/9289900).\n",
    "\n",
    "__Extra Credit:__ WireGuard supports optional Pre-shared Symmetric key Mode, which provides sufficient protection for post-quantum cryptography. According to the WireGuard protocol description: \"If an additional layer of symmetric-key crypto is required (for, say, post-quantum resistance), WireGuard also supports an optional pre-shared key that is mixed into the public key cryptography. When the pre-shared key mode is not in use, the pre-shared key value is assumed to be an all-zero string of 32 bytes.\" (ref:<https://www.wireguard.com/protocol/>). Your __task__ is to reconfigure WireGuard with a pre-shared key (use the same setup as before, but include a pre-shared key). Submit a screenshot of your configuration, a screenshot of the output of `sudo wg show`. Briefly explain how using a Pre-shared key augments WireGuard security in case of quantum computing advances.\n",
    "\n",
    "__Optional__ [Interesting article](https://www.technologyreview.com/2021/11/03/1039171/hackers-quantum-computers-us-homeland-security-cryptography/).\n",
    "\n",
    "\n",
    "# Milestone 4 -- Digital Signature\n",
    "\n",
    "\n",
    "In this milestone, you will apply a digital signature to provide document authentication (verifying that a known sender created the document) and integrity (verifying that the document was unaltered in transit).\n",
    "We will use [Pretty Good Privacy (PGP)](https://en.wikipedia.org/wiki/Pretty_Good_Privacy) protocol for creating and verifying signatures.\n",
    "\n",
    "One common and free implementation of PGP is [GNU Privacy Guard (GPG)](https://en.wikipedia.org/wiki/GNU_Privacy_Guard), also known as [GnuPG](https://gnupg.org/).\n",
    "We will use the command-line tool, which can be installed in your VM (no need for `docker` in this milestone):"
   ]
  },
  {
   "cell_type": "markdown",
   "id": "1e811214",
   "metadata": {},
   "source": [
    "```bash\n",
    "sudo apt-get install gnupg\n",
    "```\n"
   ]
  },
  {
   "cell_type": "markdown",
   "id": "2f5e2d5e",
   "metadata": {},
   "source": [
    "## Task 4.1 -- Public/Private Keys\n",
    "\n",
    "* Create a PGP public/private key pair with the following command:"
   ]
  },
  {
   "cell_type": "markdown",
   "id": "a85b5b83",
   "metadata": {},
   "source": [
    "```bash\n",
    "gpg --gen-key\n",
    "```\n"
   ]
  },
  {
   "cell_type": "markdown",
   "id": "ab45848e",
   "metadata": {},
   "source": [
    "Then enter a name (e.g., your team's name), email address (e.g., one of your emails), and a passphrase to protect your private key (remember this passphrase!).\n",
    "By default, it will create an RSA key with 3072 bits.\n",
    "You will use the private key to sign a document, while others can use your public key to verify your signature.\n",
    "\n",
    "* Export your public key as an ASCII file so you can share it with others:"
   ]
  },
  {
   "cell_type": "markdown",
   "id": "f41f477a",
   "metadata": {},
   "source": [
    "```bash\n",
    "gpg --export  youremail > teamName_public.key\n",
    "```\n"
   ]
  },
  {
   "cell_type": "markdown",
   "id": "c7b46867",
   "metadata": {},
   "source": [
    "* Import and trust others' public keys.\n",
    "A public key belongs to this course at lab6 directory (\"lab6/pgp/ttm4200_pubkey.asc\"). \n",
    "You should import it, and trust it:"
   ]
  },
  {
   "cell_type": "markdown",
   "id": "2cbf5440",
   "metadata": {},
   "source": [
    "```bash\n",
    "gpg --import ttm4200_public.key\n",
    "gpg --edit-key ttm4200\n",
    "trust\n",
    "5\n",
    "y\n",
    "quit\n",
    "```\n"
   ]
  },
  {
   "cell_type": "markdown",
   "id": "532a3513",
   "metadata": {},
   "source": [
    "## Task 4.2 -- Verifying Digital Signature\n",
    "\n",
    "Q5. __REPORT:__ There is a pdf document at \"lab6/pgp/verify_me.pdf\" that was digitally signed with the private key of ttm4200, where the signature file is at \"lab6/pgp/verify_me.pdf.sig\". Verify the document's signature, then explain how this verification proves (or does not prove) the document's __integrity__ and __authenticity__.\n",
    "\n",
    ">__Note:__ assume the public-key hasn't been tampered with. \n",
    "\n",
    ">__[HINT](https://www.gnupg.org/gph/en/manual/x135.html)__\n",
    "\n",
    "\n",
    "## Task 4.3 -- Creating Digital Signature & Encryption\n",
    "\n",
    "Q6. __REPORT:__ Explain how you can encrypt your report such that only the owner of the private key of ttm4200 can read the encryption (i.e., [how PGP encryption works?](https://en.wikipedia.org/wiki/Pretty_Good_Privacy#/media/File:PGP_diagram.svg)). Then (when you finish writing the delivery report), digitally sign your report (__detached signature__), and encrypt your report such that only the owner of the private key of ttm4200 can read the encryption. Submit the following files:\n",
    "\n",
    "* Your report (unencrypted version).\n",
    "\n",
    "* Your public key.\n",
    "\n",
    "* The signature file.\n",
    "\n",
    "* The encrypted report."
   ]
  }
 ],
 "metadata": {},
 "nbformat": 4,
 "nbformat_minor": 5
}
