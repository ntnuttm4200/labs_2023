{
 "cells": [
  {
   "cell_type": "markdown",
   "id": "e9423552",
   "metadata": {},
   "source": [
    "# Lab 5 -- Network Layer\n",
    "\n",
    "## Introduction\n",
    "\n",
    "This lab aims to introduce you to the network layer of the Internet protocol suite. In particular, you will set up and analyze a routing protocol, Network Address Translation (NAT), and Dynamic Host Configuration Protocol (DHCP).\n",
    "\n",
    "For delivery, submit a PDF report where you answer **only** those questions marked with a **REPORT:**.\n",
    "\n",
    "\n",
    "## Lab Setup\n",
    "\n",
    "[Figure 1](#figure_1) shows the setup for this lab. It is an extension to lab2, but the servers now have public IP addresses and two other private networks. Your job is to configure a routing protocol in the routers to have full connectivity between the networks and to set up NAT to access the servers from the private networks. Additionally, you will set up DHCP to dynamically assign IP addresses to clients in private networks.\n",
    "\n",
    "\n",
    "\n",
    "<a id='figure_1'></a>\n",
    "\n",
    "|<img src=\"figures/lab5.png\" />|\n",
    "|:--:| \n",
    "| *Figure 1: Lab5 Setup* |\n",
    "\n",
    "\n",
    "> Read the \"docker-compose.yml\" file to understand the setup. \n",
    "   \n",
    "\n",
    "- Stop and remove the containers from the previous lab, if any, before starting this lab."
   ]
  },
  {
   "cell_type": "markdown",
   "id": "c368dbbd",
   "metadata": {},
   "source": [
    "```bash\n",
    "cd ~/lab/lab4\n",
    "docker-compose down\n",
    "cd ~/lab/lab5\n",
    "docker-compose up -d --build\n",
    "```\n"
   ]
  },
  {
   "cell_type": "markdown",
   "id": "259981b0",
   "metadata": {},
   "source": [
    "- The servers are already configured, so you don't need to do anything with them. \n",
    "\n",
    "\n",
    "- To save your configuration in the routers, run the script: `sudo sh ~/work_dir/save.sh` inside the corresponding container."
   ]
  },
  {
   "cell_type": "code",
   "execution_count": null,
   "id": "b19cbfd2",
   "metadata": {},
   "outputs": [],
   "source": [
    "from test_lab5 import TestLab5\n",
    "check_progress = TestLab5()"
   ]
  },
  {
   "cell_type": "markdown",
   "id": "403afafc",
   "metadata": {},
   "source": [
    "# Milestone 1 -- Network Addressing and Routing\n",
    "\n",
    "## Background\n",
    "\n",
    "In this milestone, you will learn how to set up a routing protocol. The IP addresses have already been set for simplicity, but the routers only know the directly connected networks. Thus they can not forward packets to non-directly connected networks.\n",
    "\n",
    "- Check the routing table in the routers (router0, router1, router2, and router3) and try to understand every line in the output based on [figure 1](#figure_1)."
   ]
  },
  {
   "cell_type": "markdown",
   "id": "35268127",
   "metadata": {},
   "source": [
    "```bash\n",
    "ip route show\n",
    "```\n"
   ]
  },
  {
   "cell_type": "markdown",
   "id": "e96c3160",
   "metadata": {},
   "source": [
    "- You can try pinging the Webserver from router1. Do you get any response?"
   ]
  },
  {
   "cell_type": "markdown",
   "id": "861b39ef",
   "metadata": {},
   "source": [
    "```bash\n",
    "ping 129.100.1.3\n",
    "```\n"
   ]
  },
  {
   "cell_type": "markdown",
   "id": "922ecbff",
   "metadata": {},
   "source": [
    "To have connectivity, you need to update the routing tables with the correct paths to forward packets. You can do this using either static or dynamic routing:\n",
    "\n",
    "- In static routing, you manually enter routes in the routing table, but this can be a daunting task, especially in larger networks.\n",
    "\n",
    "- In dynamic routing, you configure a routing protocol instructing routers to exchange information with other routers, then automatically learn routes and update the routing table.\n",
    "  - In distance-vector protocols (RIP, EIGRP, BGP ... etc.), routers describe available paths (i.e., routes) to their neighbors.\n",
    "  - In link-state protocols (OSPF, IS-IS, ... etc.), routers describe the state of their links to all other routers.\n",
    "    \n",
    "In this lab., we will use OSPF as an example, but using any other routing protocol is straightforward. [OSPF](https://en.wikipedia.org/wiki/Open_Shortest_Path_First) is a link-state routing protocol in which routers describe their link-state in a message called link-state advertisement (LSA). Then each router constructs a topology map of the network and calculates the shortest path using [Dijkstra's algorithm](https://en.wikipedia.org/wiki/Dijkstra%27s_algorithm)\n",
    "\n",
    "One open-source routing software is [FRR (Free Range Routing)](https://frrouting.org/). FRR uses the Linux kernel’s routing stack for packet forwarding and implements the most commonly used protocols, such as OSPF, RIP, BGP, IS-IS, and IGRP. FRR is already installed on the routers, and the OSPF daemon is enabled by default.\n",
    "\n",
    "\n",
    "## Task 1.1 -- Configure OSPF\n",
    "\n",
    "A nice feature of FRR is that it provides an interactive shell (`vtysh`) with CLI similar to Cisco IOS commands. There are different [modes](https://www.cisco.com/E-Learning/bulk/public/tac/cim/cib/using_cisco_ios_software/02_cisco_ios_hierarchy.htm) to the CLI, and certain commands are only available within a specific mode. Here is an example of how to configure OSPF on \"router0\":\n",
    "\n",
    "* Start the CLI by running `vtysh`. This will take you to the __EXEC mode__ (notice the change in the prompt).\n",
    "* Check FRR routing table: `show ip route`. You will see only directly connected routes.\n",
    "\n",
    "* Enter the __configuration mode__: `configure terminal` (notice the change in the prompt). This will allow you to modify the running system configuration.\n",
    "\n",
    "* Enable OSPF routing protocol: `router ospf` (notice the change in the prompt). This will take you to  __routing configuration mode__.\n",
    "\n",
    "* Tell OSPF which interfaces to include in its link-state advertisement (LSA). You only need to specify the network address, then OSPF checks which interfaces are part of this network and include them in its LSA. Additionally, you need to specify the area:"
   ]
  },
  {
   "cell_type": "markdown",
   "id": "529c8725",
   "metadata": {},
   "source": [
    "```bash\n",
    "network 129.100.1.0/29 area 0\n",
    "network 129.168.1.24/29 area 0 \n",
    "network 129.168.1.0/29 area 0\n",
    "```\n"
   ]
  },
  {
   "cell_type": "markdown",
   "id": "78598181",
   "metadata": {},
   "source": [
    ">_OSPF divides the network into routing areas to simplify administration and optimize traffic and resource utilization. For simplicity, you only use one area in this lab._\n",
    "    \n",
    "* Exit __configuration mode__ by entering `end` or `CTRL+Z`. This will bring you back to the __EXEC mode__. Enter `exit` if you want to return to the Linux terminal.\n",
    "\n",
    "\n",
    "__Your task now is to configure OSPF on the other routers: \"router1\", \"router2\", and \"router3\". However, do not include the private networks (10.20.40.0/24, 10.20.50.0/24) in the link-state advertisement.__\n",
    "\n",
    ">_If you by mistake included the private networks in the link-state advertisement, you could get rid of them by using, for example, `no network 10.20.40.0/24 area 0` in the __routing configuration mode___\n",
    "   \n",
    "* Ping the Webserver from router1 and ensure you can connect to it."
   ]
  },
  {
   "cell_type": "code",
   "execution_count": null,
   "id": "dfc7245c",
   "metadata": {},
   "outputs": [],
   "source": [
    "check_progress.test_1_1()"
   ]
  },
  {
   "cell_type": "markdown",
   "id": "721936e2",
   "metadata": {},
   "source": [
    "## Task 1.2 -- Route-Costs\n",
    "\n",
    "\n",
    "* In __router1__, start CLI and check the FRR routing table:"
   ]
  },
  {
   "cell_type": "markdown",
   "id": "640f77c6",
   "metadata": {},
   "source": [
    "```bash\n",
    "vtysh\n",
    "show ip route\n",
    "```\n"
   ]
  },
  {
   "cell_type": "markdown",
   "id": "ee74725f",
   "metadata": {},
   "source": [
    "* Check the route towards 129.100.1.0/29, and answer the following:\n",
    "  * Via which interfaces does the route passes?\n",
    "  * What is the route cost?\n",
    "\n",
    ">_We set the Individual link cost to 100. FRR displays the information \\[Administrative distance/Route Cost\\] in each entry of its routing table. The [administrative distance](https://docs.frrouting.org/en/latest/zebra.html#administrative-distance) allows FRR to decide what routes should be installed in the Linux kernel based upon the originating protocol. OSPF has an administrative distance of 110._"
   ]
  },
  {
   "cell_type": "code",
   "execution_count": null,
   "id": "2ea75bbf",
   "metadata": {},
   "outputs": [],
   "source": [
    "# Via which interfaces does the route passes?\n",
    "route_interface=  #your answer as a string: \"ether1\" or \"ether2\"\n",
    "# What is the route cost?\n",
    "route_cost=  # You answer as integer\n",
    "check_progress.test_1_2(route_interface, route_cost)"
   ]
  },
  {
   "cell_type": "markdown",
   "id": "b084cab9",
   "metadata": {},
   "source": [
    "## Task 1.3 -- Link Failure\n",
    "\n",
    "* In __router0__, bring down the interface \"ether2\":"
   ]
  },
  {
   "cell_type": "markdown",
   "id": "4b406c61",
   "metadata": {},
   "source": [
    "```bash\n",
    "sudo ip link set ether2 down\n",
    "```\n"
   ]
  },
  {
   "cell_type": "markdown",
   "id": "7e3805ad",
   "metadata": {},
   "source": [
    "* In __router1__, re-check the FRR routing table again and focus on the route towards 129.100.1.0/29, then answer the following:    \n",
    "  * Via which interfaces does the route passes after the link failure?\n",
    "  * What is the route cost after the link failure?"
   ]
  },
  {
   "cell_type": "code",
   "execution_count": null,
   "id": "fbe0b461",
   "metadata": {},
   "outputs": [],
   "source": [
    "# Via which interfaces does the route passes after the link failure?\n",
    "route_interface_after_link_failure=  #your answer as a string: \"ether1\" or \"ether2\"\n",
    "# What is the route cost after the link failure?\n",
    "route_cost_after_link_failure=  # Your answer as integer\n",
    "check_progress.test_1_3(route_interface_after_link_failure, route_cost_after_link_failure)"
   ]
  },
  {
   "cell_type": "markdown",
   "id": "7505a421",
   "metadata": {},
   "source": [
    "Q1. __REPORT:__ Based on [Figure 1](#figure_1) and using OSPF as an example, describe how routers detect and propagate link states through the network to build a link state database and how Dijkstra’s algorithm calculates the shortest path using this database. Then explain how the shortest path is re-calculated in case of a link failure. Support your explanation with screenshots from Wireshark of OSPF hello packets and OSPF LSA messages.\n",
    "\n",
    ">_Hint: To capture these packets, you can bring down/up a link `sudo ip link set [interface_name] down/up`._\n",
    "\n",
    "\n",
    "## Optional Task 1.4 -- Another Routing Protocol\n",
    "\n",
    "* Configure other routing protocols, such as RIP, EIGRP, IS-IS, or BGP. For example, to configure RIP on \"router0\":\n",
    "  *  Enable the RIP daemon in \"/etc/frr/daemons\" by replacing \"ripd=no\" to \"ripd=yes\". Since OSPF has a lower administrative distance than RIP, you need to disable it. Otherwise, OSPF routes will take precedence.\n",
    "  * Restart FRR: `sudo service frr restart`.\n",
    "  * Configure RIP using the VTY shell:"
   ]
  },
  {
   "cell_type": "markdown",
   "id": "8e880d4b",
   "metadata": {},
   "source": [
    "```bash\n",
    "vtysh\n",
    "configure terminal\n",
    "router rip\n",
    "network 129.100.1.0/29\n",
    "network 129.168.1.24/29\n",
    "network 129.168.1.0/29\n",
    "end\n",
    "exit\n",
    "```\n"
   ]
  },
  {
   "cell_type": "markdown",
   "id": "bef222e9",
   "metadata": {},
   "source": [
    "# Milestone 2 -- Network Address Translation (NAT)\n",
    "\n",
    "* In __router0__, bring down the interface \"ether2\", if you have set it up when answering Q1."
   ]
  },
  {
   "cell_type": "markdown",
   "id": "5dfcdfc3",
   "metadata": {},
   "source": [
    "```bash\n",
    "sudo ip link set ether2 down\n",
    "```\n"
   ]
  },
  {
   "cell_type": "markdown",
   "id": "66482671",
   "metadata": {},
   "source": [
    "* After setting up the routing protocol, you can connect to the webserver from __\"router1\"__, and you can retrieve the HTML page:"
   ]
  },
  {
   "cell_type": "markdown",
   "id": "58659539",
   "metadata": {},
   "source": [
    "```bash\n",
    "wget http://129.100.1.3 --header \"Host: www.ttm4200.com\"\n",
    "```\n"
   ]
  },
  {
   "cell_type": "markdown",
   "id": "12429a2b",
   "metadata": {},
   "source": [
    "* However, you can not retrieve the webserver HTML page from  __\"pclient1\"__.\n",
    "\n",
    "Q2. __REPORT:__ Briefly explain why you can not connect to the webserver from  __\"pclient1\"__. Find out where the packets get dropped and support your claim with screenshots from tcpdump.\n",
    "\n",
    ">_Hint: You can use `tcpdump` to print packets directly on a network interface in the terminal. For example, you can enter the http get command in \"pclient1\": `wget http://129.100.1.3 --header \"Host: www.ttm4200.com\"`, then run this command `sudo tcpdump port 80 -i [interface_name] --immediate-mode -nn` on different routers to check if packets arrive at that interface (refer back to [Figure 1](#figure_1)). There can be a delay between starting `tcpdump` and printing packets in the terminal._\n",
    "\n",
    "\n",
    ">_Hint: Linux Kernel enables, by default, the Reverse Path Filtering, which tests each incoming packet against the routing table and drops the packet if the __source__ address is not routable through any interface. This security feature prevents [IP Address Spoofing](https://en.wikipedia.org/wiki/IP_address_spoofing). __Optional__: if you are interested, you can read more about it [here](https://www.theurbanpenguin.com/rp_filter-and-lpic-3-linux-security/). __Optional__: if you are also interested, you can disable the Reverse Path Filtering and see the resulting behavior (in your \"ntnu_server\" `sudo sysctl -w net.ipv4.conf.default.rp_filter=0`, end then rebuild your containers)._\n",
    "\n",
    "\n",
    "## Task 2.1 -- NAT Setup\n",
    "\n",
    "\n",
    "After figuring out the previous problem's cause, you will solve it using [NAT](https://en.wikipedia.org/wiki/Network_address_translation). You can use [_nftables_](https://en.wikipedia.org/wiki/Nftables), a subsystem of the Linux kernel that provides packet filtering and NAT.\n",
    "\n",
    "\n",
    "* In the containers \"router1\" and \"router2\", activate [IP Masquerading](https://tldp.org/HOWTO/IP-Masquerade-HOWTO/ipmasq-background2.5.html) to enable NAT/Masquerading for the private networks \"private_net1\" and \"private_net2\":"
   ]
  },
  {
   "cell_type": "markdown",
   "id": "9994b7ef",
   "metadata": {},
   "source": [
    "```bash\n",
    "sudo nft add table ip nat\n",
    "sudo nft 'add chain ip nat POSTROUTING { type nat hook postrouting priority 100; }'\n",
    "sudo nft add rule ip nat POSTROUTING oifname \"ether1\" masquerade\n",
    "```\n"
   ]
  },
  {
   "cell_type": "markdown",
   "id": "d2397f1a",
   "metadata": {},
   "source": [
    "> _Note: You will use nftables in the next lab to configure firewall rules and packet filtering. Thus, it can be helpful to read more about nftables, e.g., [HOWTO documentation page](https://wiki.nftables.org/wiki-nftables/index.php/Main_Page).\n",
    "\n",
    "* Validate the NAT setup by ensuring that you can connect to the webserver from \"pclient1\" and \"pclient2\":"
   ]
  },
  {
   "cell_type": "markdown",
   "id": "877834db",
   "metadata": {},
   "source": [
    "```bash\n",
    "ping 129.100.1.3\n",
    "wget http://129.100.1.3 --header \"Host: www.ttm4200.com\"\n",
    "```\n"
   ]
  },
  {
   "cell_type": "markdown",
   "id": "04a3dc20",
   "metadata": {},
   "source": [
    "* Start a packet capture with `tcpdump` on your \"pclient1\" and \"webserver\", and save the capture to a file (e.g. \"pclient1.pcap\" and \"webserver.pcap\").\n",
    "\n",
    "* In the \"pclient1\" container, retrieve the content from the webserver using:"
   ]
  },
  {
   "cell_type": "markdown",
   "id": "4340653a",
   "metadata": {},
   "source": [
    "```bash\n",
    "wget http://129.100.1.3 --header \"Host: www.ttm4200.com\"\n",
    "```\n"
   ]
  },
  {
   "cell_type": "markdown",
   "id": "884a30a7",
   "metadata": {},
   "source": [
    "* Stop `tcpdump` capturing at \"pclient1\" and \"webserver\", and copy the capture files to your \"ntnu_server\" inside the lab5 folder."
   ]
  },
  {
   "cell_type": "code",
   "execution_count": null,
   "id": "1172142b",
   "metadata": {},
   "outputs": [],
   "source": [
    "check_progress.test_2_1()"
   ]
  },
  {
   "cell_type": "markdown",
   "id": "07849a8e",
   "metadata": {},
   "source": [
    "## Task 2.2 -- Analyzing Packets From The Client Perspective (Behind NAT)\n",
    "\n",
    "Open the \"pclient1.pcap\" file in Wireshark. Apply the display filter `http`to show only HTTP packets, then answer the following questions:\n",
    "\n",
    "* Find the HTTP GET sent from the client to the webserver. What are the source and destination IP addresses and TCP source and destination ports on the IP datagram carrying this HTTP GET?\n",
    "\n",
    "\n",
    "* Find the corresponding 200 OK HTTP message received from the webserver. What are the source and destination IP addresses and TCP source and destination ports on the IP datagram carrying this HTTP 200 OK message?"
   ]
  },
  {
   "cell_type": "code",
   "execution_count": null,
   "id": "7c1eb7f2",
   "metadata": {},
   "outputs": [],
   "source": [
    "# Find the HTTP GET sent from the client to the webserver. \n",
    "#What are the source and destination IP addresses and TCP source and destination ports on the IP datagram carrying this HTTP GET?\n",
    "HTTP_GET_packet_number_behind_nat=  #Your answer (an integer)\n",
    "HTTP_GET_source_IP_behind_nat =  #You answer (in a string)\n",
    "HTTP_GET_source_port_behind_nat =  #Your answer (an integer)\n",
    "HTTP_GET_destination_IP_behind_nat =  #You answer (in a string)\n",
    "HTTP_GET_destination_port_behind_nat =   #Your answer (an integer)\n",
    "\n",
    "# Find the corresponding 200 OK HTTP message received from the webserver. \n",
    "# What are the source and destination IP addresses and TCP source and destination ports on the IP datagram carrying this HTTP 200 OK message?\n",
    "HTTP_response_packet_number_behind_nat =  #Your answer (an integer)\n",
    "HTTP_response_source_IP_behind_nat= #You answer (in a string)\n",
    "HTTP_response_source_port_behind_nat=   #Your answer (an integer)\n",
    "HTTP_response_destination_IP_behind_nat= #You answer (in a string)\n",
    "HTTP_response_destination_port_behind_nat=   #Your answer (an integer)\n",
    "\n",
    "check_progress.test_2_2(HTTP_GET_packet_number_behind_nat,\n",
    "                        HTTP_GET_source_IP_behind_nat,\n",
    "                        HTTP_GET_source_port_behind_nat,\n",
    "                        HTTP_GET_destination_IP_behind_nat,\n",
    "                        HTTP_GET_destination_port_behind_nat,\n",
    "                        HTTP_response_packet_number_behind_nat,\n",
    "                        HTTP_response_source_IP_behind_nat,\n",
    "                        HTTP_response_source_port_behind_nat,\n",
    "                        HTTP_response_destination_IP_behind_nat,\n",
    "                        HTTP_response_destination_port_behind_nat)"
   ]
  },
  {
   "cell_type": "markdown",
   "id": "1d55f347",
   "metadata": {},
   "source": [
    "## Task 2.3 -- Analyzing Packets From The Webserver Perspective (After NAT)\n",
    "\n",
    "\n",
    "\n",
    "Open the \"webserver.pcap\" file in Wireshark, apply the display filter `http`. Then answer these questions:\n",
    "\n",
    "* Find the HTTP GET message sent from the client to the webserver. What are the source and destination IP addresses and TCP source and destination ports on the IP datagram carrying this HTTP GET?\n",
    "\n",
    ">_Self-Check: Which of these fields are the same, and which are different, compared to HTTP GET behind NAT? Why?_\n",
    "\n",
    "* Compared to HTTP GET behind NAT, Which of the following fields in the IP datagram carrying the HTTP GET are changed: Version, Header Length, Flags, Checksum?\n",
    "\n",
    "Q3. __REPORT:__ Briefly explain why (Version, Header Length, Flags, or Checksum) field has changed. Give two reasons.\n",
    "\n",
    "* Find the 200 OK HTTP message. What are the source and destination IP addresses and TCP source and destination ports on the IP datagram carrying this HTTP 200 OK message?\n",
    "\n",
    ">_Self-Check: Which of these fields are the same, and which are different, compared to the 200 OK HTTP message behind NAT? Why?_"
   ]
  },
  {
   "cell_type": "code",
   "execution_count": null,
   "id": "74531f78",
   "metadata": {},
   "outputs": [],
   "source": [
    "# Find the HTTP GET message sent from the client to the webserver. \n",
    "# What are the source and destination IP addresses and TCP source and destination ports on the IP datagram carrying this HTTP GET?\n",
    "HTTP_GET_packet_number_after_nat= #Your answer (an integer)\n",
    "HTTP_GET_source_IP_after_nat= #You answer (in a string)\n",
    "HTTP_GET_source_port_after_nat=  #Your answer (an integer)\n",
    "HTTP_GET_destination_IP_after_nat=  #You answer (in a string)\n",
    "HTTP_GET_destination_port_after_nat=  #Your answer (an integer)\n",
    "\n",
    "# Compared to HTTP GET behind NAT, Which of the following fields in the IP datagram carrying the HTTP GET are changed: Version, Header Length, Flags, Checksum?\n",
    "Changed_field_in_HTTP_GET =  #You answer as a string of either: \"Version\", \"Header Length\", \"Flags\", \"Checksum\"\n",
    "\n",
    "#Find the 200 OK HTTP message. What are the source and destination IP addresses and TCP source and \n",
    "#destination ports on the IP datagram carrying this HTTP 200 OK message?\n",
    "HTTP_response_packet_number_after_nat = #Your answer (an integer)\n",
    "HTTP_response_source_IP_after_nat= #You answer (in a string)\n",
    "HTTP_response_source_port_after_nat=   #Your answer (an integer)\n",
    "HTTP_response_destination_IP_after_nat= #You answer (in a string)\n",
    "HTTP_response_destination_port_after_nat=   #Your answer (an integer)\n",
    "\n",
    "\n",
    "check_progress.test_2_3(HTTP_GET_packet_number_after_nat,\n",
    "                        HTTP_GET_source_IP_after_nat,\n",
    "                        HTTP_GET_source_port_after_nat,\n",
    "                        HTTP_GET_destination_IP_after_nat,\n",
    "                        HTTP_GET_destination_port_after_nat,\n",
    "                        Changed_field_in_HTTP_GET,\n",
    "                        HTTP_response_packet_number_after_nat,\n",
    "                        HTTP_response_source_IP_after_nat,\n",
    "                        HTTP_response_source_port_after_nat,\n",
    "                        HTTP_response_destination_IP_after_nat,\n",
    "                        HTTP_response_destination_port_after_nat)\n"
   ]
  },
  {
   "cell_type": "markdown",
   "id": "2aabac25",
   "metadata": {},
   "source": [
    "# Milestone 3 -- Dynamic Host Configuration Protocol (DHCP)\n",
    "\n",
    "## Task 3.1 -- DHCP Setup\n",
    "\n",
    "In this section, you will set up a DHCP server and a client.\n",
    "We will use [ISC DHCP](https://www.isc.org/dhcp/), which offers an open-source DHCP server and client implementation. \n",
    "You will set up an authoritative DHCP server for the local network \"private_net2\" (see figure 1).\n",
    "The server-side, _isc-dhcp-server_ is already installed in \"router2\", but you need to configure it.\n",
    "You can read this [article](https://en.wikiversity.org/wiki/Configure_ISC-DHCP_server) on configuring an ISC-DHCP server.\n",
    "\n",
    "* Configure the DHCP server's properties in the \"/etc/dhcp/dhcpd.conf\" file. You can start with this template:"
   ]
  },
  {
   "cell_type": "markdown",
   "id": "567e819b",
   "metadata": {},
   "source": [
    "```bash\n",
    "#declare this DHCP server as authoritative\n",
    "==fill here==;\n",
    "#specify a subnet and its netmask\n",
    "subnet ==fill here== netmask ==fill here== {\n",
    "\n",
    "  #specify a range of addresses the server can offer\n",
    "  #(exclude the router IP from this range)\n",
    "  range ==fill here==  ==fill here== ;\n",
    "\n",
    "  option domain-name-servers 129.100.1.2; \n",
    "  option domain-name \"ttm4200.com\";\n",
    "  option routers 10.20.50.100;\n",
    "}\n",
    "default-lease-time 600;\n",
    "max-lease-time 7200;\n",
    "```\n"
   ]
  },
  {
   "cell_type": "markdown",
   "id": "fc26bb22",
   "metadata": {},
   "source": [
    "* Activate DHCP on the interface \"ether0\" by editing the \"/etc/default/isc-dhcp-server\" configuration file (comment \"INTERFACESv6\")."
   ]
  },
  {
   "cell_type": "markdown",
   "id": "63497bb1",
   "metadata": {},
   "source": [
    "```bash\n",
    "INTERFACESv4=\"ether0\"\n",
    "#INTERFACESv6=\"\"\n",
    "````\n",
    "* Check the syntax of the server configuration file for any errors: \n",
    "\n",
    "```bash\n",
    "dhcpd -t\n",
    "```\n"
   ]
  },
  {
   "cell_type": "markdown",
   "id": "54667977",
   "metadata": {},
   "source": [
    "* Restart the dhcp server:"
   ]
  },
  {
   "cell_type": "markdown",
   "id": "22ed7cf5",
   "metadata": {},
   "source": [
    "```bash\n",
    "sudo service isc-dhcp-server restart\n",
    "```\n"
   ]
  },
  {
   "cell_type": "markdown",
   "id": "6b098629",
   "metadata": {},
   "source": [
    "* Start packet capturing in \"router2\" on \"ether0\" interface:"
   ]
  },
  {
   "cell_type": "markdown",
   "id": "c8be0106",
   "metadata": {},
   "source": [
    "```bash\n",
    "sudo tcpdump -i ether0 -w dhcp.pcap\n",
    "```\n"
   ]
  },
  {
   "cell_type": "markdown",
   "id": "bfebf3c1",
   "metadata": {},
   "source": [
    "* On the client-side, [_dhclient_](https://linux.die.net/man/8/dhclient) is already installed in \"pclient2\". You will use this client for retrieving a DHCP lease.\n",
    "\n",
    "* In \"pclient2\", release any existing DHCP client lease:"
   ]
  },
  {
   "cell_type": "markdown",
   "id": "a781625d",
   "metadata": {},
   "source": [
    "```bash\n",
    "sudo dhclient -r -v\n",
    "\n",
    "```\n"
   ]
  },
  {
   "cell_type": "markdown",
   "id": "f266b925",
   "metadata": {},
   "source": [
    "* Request a new IP address from a DHCP server:"
   ]
  },
  {
   "cell_type": "markdown",
   "id": "8051eaa0",
   "metadata": {},
   "source": [
    "```bash\n",
    "sudo dhclient -v\n",
    "```\n"
   ]
  },
  {
   "cell_type": "markdown",
   "id": "24f1cc03",
   "metadata": {},
   "source": [
    "* Then, __again__, release the lease.\n",
    "\n",
    ">_You might lose SSH connection to \"pclient2\". You can reconnect using `docker attach pclient`. Ignore the error message \"System has not been booted with systemd as init system (PID 1). Can't operate.\". This message is systemd-related because we are running Linux in a container ([for more information](https://stackoverflow.com/questions/39169403/systemd-and-systemctl-within-ubuntu-docker-images#answer-39169889))\n",
    "\n",
    "* Stop the packet capture and copy the capture file to your \"ntnu_server\", inside the lab5 folder.\n",
    "\n",
    "\n",
    "## Task 3.2 -- Analyzing DHCP Packets\n",
    "\n",
    "Open the capture file \"dhcp.pcap\" in Wireshark and display only DHCP frames (apply the display filter `dhcp` ). Then answer the following questions:\n",
    "\n",
    "* What is the packet number (packet ordinals in the capture file) of the four DHCP messages (Discover, Offer, Request, and ACK)?\n",
    "\n",
    "* Are DHCP messages sent over UDP or TCP? \n",
    "\n",
    "* What is the value of the Transaction-ID in each of the four (Discover/Offer/Request/ACK) DHCP messages?  \n",
    " \n",
    "\n",
    "* What are the source and destination IP addresses for each of the four DHCP messages (Discover/Offer/Request/ACK DHCP)? \n",
    "\n",
    "Q4. __REPORT:__ Based on your reading of the Book, are the source and destination IP addresses of the four DHCP messages what you expected? Briefly explain why?\n",
    "\n",
    "* What is the router and subnetmask in the DHCP offer message? \n",
    "\n",
    "* How long is the IP address lease time?\n",
    "\n",
    "* Does the DHCP server acknowledge the DHCP release message?"
   ]
  },
  {
   "cell_type": "code",
   "execution_count": null,
   "id": "a8a697b0",
   "metadata": {},
   "outputs": [],
   "source": [
    "# What is the packet number (packet ordinals in the capture file) of the four DHCP messages (Discover, Offer, Request, and ACK)?\n",
    "\n",
    "DHCP_Discover_packet_number=  #Your answer as integer\n",
    "DHCP_Offer_packet_number=  #Your answer as integer\n",
    "DHCP_Request_packet_number=  #Your answer as integer\n",
    "DHCP_ACK_packet_number=  #Your answer as integer\n",
    "\n",
    "# Are DHCP messages sent over UDP or TCP? \n",
    "DHCP_transport_protocol =   # your answer as a string of \"UDP\" or \"TCP\"\n",
    "\n",
    "# What is the value of the Transaction-ID in each of the four (Discover/Offer/Request/ACK) DHCP messages?\n",
    "Transaction_ID=  #You answer as an integer (decimal or hexadecimal preceded with 0x)\n",
    "\n",
    "\n",
    "# What are the source and destination IP addresses for each of the four DHCP messages (Discover/Offer/Request/ACK DHCP)? \n",
    "DHCP_Discover_source_IP=   #Your answer as a string of IP address\n",
    "DHCP_Discover_destination_IP=   #Your answer as a string of IP address\n",
    "DHCP_Offer_source_IP=  #Your answer as a string of IP address\n",
    "DHCP_Offer_destination_IP=   #Your answer as a string of IP address\n",
    "DHCP_Request_source_IP=  #Your answer as a string of IP address\n",
    "DHCP_Request_destination_IP=  #Your answer as a string of IP address\n",
    "DHCP_ACK_source_IP=  #Your answer as a string of IP address\n",
    "DHCP_ACK_destination_IP=  #Your answer as a string of IP address\n",
    "\n",
    "\n",
    "# What is the router and subnetmask in the DHCP offer message? \n",
    "DHCP_Offer_router =  #Your answer as a string of IP address\n",
    "DHCP_Offer_subnetmask =  #Your answer as a string of subnet mask\n",
    "\n",
    "# How long is the IP address lease time (in seconds)?\n",
    "IP_lease_time =  #Your answer as integer \n",
    "\n",
    "# Does the DHCP server acknowledge the DHCP release message?\n",
    "server_acknowledge_release_message = # Your answer as a boolean (True or False)\n",
    "    \n",
    "from test_lab5 import TestLab5\n",
    "check_progress = TestLab5()\n",
    "check_progress.test_3_1(DHCP_Discover_packet_number,\n",
    "                        DHCP_Offer_packet_number,\n",
    "                        DHCP_Request_packet_number,\n",
    "                        DHCP_ACK_packet_number,\n",
    "                        DHCP_transport_protocol,\n",
    "                        Transaction_ID,\n",
    "                        DHCP_Discover_source_IP,\n",
    "                        DHCP_Discover_destination_IP,\n",
    "                        DHCP_Offer_source_IP,\n",
    "                        DHCP_Offer_destination_IP,\n",
    "                        DHCP_Request_source_IP,\n",
    "                        DHCP_Request_destination_IP,\n",
    "                        DHCP_ACK_source_IP,\n",
    "                        DHCP_ACK_destination_IP,\n",
    "                        DHCP_Offer_router,\n",
    "                        DHCP_Offer_subnetmask,\n",
    "                        IP_lease_time,\n",
    "                        server_acknowledge_release_message)"
   ]
  }
 ],
 "metadata": {
  "kernelspec": {
   "display_name": "Python 3 (ipykernel)",
   "language": "python",
   "name": "python3"
  },
  "language_info": {
   "codemirror_mode": {
    "name": "ipython",
    "version": 3
   },
   "file_extension": ".py",
   "mimetype": "text/x-python",
   "name": "python",
   "nbconvert_exporter": "python",
   "pygments_lexer": "ipython3",
   "version": "3.10.6"
  }
 },
 "nbformat": 4,
 "nbformat_minor": 5
}
